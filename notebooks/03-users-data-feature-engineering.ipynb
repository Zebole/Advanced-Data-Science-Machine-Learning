{
 "cells": [
  {
   "cell_type": "code",
   "execution_count": 1,
   "id": "1778028e",
   "metadata": {},
   "outputs": [],
   "source": [
    "import pandas as pd\n",
    "import numpy as np\n",
    "import seaborn as sns\n",
    "import matplotlib.pyplot as plt"
   ]
  },
  {
   "cell_type": "code",
   "execution_count": 2,
   "id": "231112f6",
   "metadata": {},
   "outputs": [],
   "source": [
    "from sklearn.model_selection import train_test_split\n",
    "from sklearn.linear_model import LinearRegression\n",
    "from sklearn.preprocessing import StandardScaler\n",
    "from sklearn.metrics import r2_score, mean_squared_error"
   ]
  },
  {
   "cell_type": "code",
   "execution_count": 3,
   "id": "1b0bda3e",
   "metadata": {},
   "outputs": [
    {
     "data": {
      "text/html": [
       "<div><div id=e7c2a41d-1c4a-4815-b2ba-8d3080b3c011 style=\"display:none; background-color:#9D6CFF; color:white; width:200px; height:30px; padding-left:5px; border-radius:4px; flex-direction:row; justify-content:space-around; align-items:center;\" onmouseover=\"this.style.backgroundColor='#BA9BF8'\" onmouseout=\"this.style.backgroundColor='#9D6CFF'\" onclick=\"window.commands?.execute('create-mitosheet-from-dataframe-output');\">See Full Dataframe in Mito</div> <script> if (window.commands?.hasCommand('create-mitosheet-from-dataframe-output')) document.getElementById('e7c2a41d-1c4a-4815-b2ba-8d3080b3c011').style.display = 'flex' </script> <table border=\"1\" class=\"dataframe\">\n",
       "  <thead>\n",
       "    <tr style=\"text-align: right;\">\n",
       "      <th></th>\n",
       "      <th>number_transactions</th>\n",
       "      <th>total_amount_usd</th>\n",
       "      <th>age</th>\n",
       "      <th>default</th>\n",
       "      <th>housing</th>\n",
       "      <th>loan</th>\n",
       "      <th>duration</th>\n",
       "      <th>campaign</th>\n",
       "      <th>pdays</th>\n",
       "      <th>previous</th>\n",
       "      <th>...</th>\n",
       "      <th>education_primary</th>\n",
       "      <th>education_secondary</th>\n",
       "      <th>education_tertiary</th>\n",
       "      <th>contact_cellular</th>\n",
       "      <th>contact_not contacted</th>\n",
       "      <th>contact_telephone</th>\n",
       "      <th>device_Unknown</th>\n",
       "      <th>device_desktop</th>\n",
       "      <th>device_mobile</th>\n",
       "      <th>device_tablet</th>\n",
       "    </tr>\n",
       "  </thead>\n",
       "  <tbody>\n",
       "    <tr>\n",
       "      <th>0</th>\n",
       "      <td>3.000000</td>\n",
       "      <td>2143.000000</td>\n",
       "      <td>58</td>\n",
       "      <td>False</td>\n",
       "      <td>True</td>\n",
       "      <td>False</td>\n",
       "      <td>261</td>\n",
       "      <td>1</td>\n",
       "      <td>-1</td>\n",
       "      <td>0</td>\n",
       "      <td>...</td>\n",
       "      <td>0</td>\n",
       "      <td>0</td>\n",
       "      <td>1</td>\n",
       "      <td>0</td>\n",
       "      <td>1</td>\n",
       "      <td>0</td>\n",
       "      <td>0</td>\n",
       "      <td>0</td>\n",
       "      <td>1</td>\n",
       "      <td>0</td>\n",
       "    </tr>\n",
       "    <tr>\n",
       "      <th>1</th>\n",
       "      <td>3.977407</td>\n",
       "      <td>1369.845345</td>\n",
       "      <td>44</td>\n",
       "      <td>False</td>\n",
       "      <td>True</td>\n",
       "      <td>False</td>\n",
       "      <td>151</td>\n",
       "      <td>1</td>\n",
       "      <td>-1</td>\n",
       "      <td>0</td>\n",
       "      <td>...</td>\n",
       "      <td>0</td>\n",
       "      <td>1</td>\n",
       "      <td>0</td>\n",
       "      <td>0</td>\n",
       "      <td>1</td>\n",
       "      <td>0</td>\n",
       "      <td>0</td>\n",
       "      <td>1</td>\n",
       "      <td>0</td>\n",
       "      <td>0</td>\n",
       "    </tr>\n",
       "    <tr>\n",
       "      <th>2</th>\n",
       "      <td>2.000000</td>\n",
       "      <td>2.000000</td>\n",
       "      <td>33</td>\n",
       "      <td>False</td>\n",
       "      <td>True</td>\n",
       "      <td>True</td>\n",
       "      <td>76</td>\n",
       "      <td>1</td>\n",
       "      <td>-1</td>\n",
       "      <td>0</td>\n",
       "      <td>...</td>\n",
       "      <td>0</td>\n",
       "      <td>1</td>\n",
       "      <td>0</td>\n",
       "      <td>0</td>\n",
       "      <td>1</td>\n",
       "      <td>0</td>\n",
       "      <td>0</td>\n",
       "      <td>0</td>\n",
       "      <td>1</td>\n",
       "      <td>0</td>\n",
       "    </tr>\n",
       "    <tr>\n",
       "      <th>3</th>\n",
       "      <td>3.977407</td>\n",
       "      <td>1369.845345</td>\n",
       "      <td>47</td>\n",
       "      <td>False</td>\n",
       "      <td>True</td>\n",
       "      <td>False</td>\n",
       "      <td>92</td>\n",
       "      <td>1</td>\n",
       "      <td>-1</td>\n",
       "      <td>0</td>\n",
       "      <td>...</td>\n",
       "      <td>0</td>\n",
       "      <td>0</td>\n",
       "      <td>0</td>\n",
       "      <td>0</td>\n",
       "      <td>1</td>\n",
       "      <td>0</td>\n",
       "      <td>0</td>\n",
       "      <td>0</td>\n",
       "      <td>0</td>\n",
       "      <td>1</td>\n",
       "    </tr>\n",
       "    <tr>\n",
       "      <th>4</th>\n",
       "      <td>1.000000</td>\n",
       "      <td>1.000000</td>\n",
       "      <td>33</td>\n",
       "      <td>False</td>\n",
       "      <td>False</td>\n",
       "      <td>False</td>\n",
       "      <td>198</td>\n",
       "      <td>1</td>\n",
       "      <td>-1</td>\n",
       "      <td>0</td>\n",
       "      <td>...</td>\n",
       "      <td>0</td>\n",
       "      <td>0</td>\n",
       "      <td>0</td>\n",
       "      <td>0</td>\n",
       "      <td>1</td>\n",
       "      <td>0</td>\n",
       "      <td>0</td>\n",
       "      <td>0</td>\n",
       "      <td>1</td>\n",
       "      <td>0</td>\n",
       "    </tr>\n",
       "    <tr>\n",
       "      <th>5</th>\n",
       "      <td>2.000000</td>\n",
       "      <td>231.000000</td>\n",
       "      <td>35</td>\n",
       "      <td>False</td>\n",
       "      <td>True</td>\n",
       "      <td>False</td>\n",
       "      <td>139</td>\n",
       "      <td>1</td>\n",
       "      <td>-1</td>\n",
       "      <td>0</td>\n",
       "      <td>...</td>\n",
       "      <td>0</td>\n",
       "      <td>0</td>\n",
       "      <td>1</td>\n",
       "      <td>0</td>\n",
       "      <td>1</td>\n",
       "      <td>0</td>\n",
       "      <td>0</td>\n",
       "      <td>1</td>\n",
       "      <td>0</td>\n",
       "      <td>0</td>\n",
       "    </tr>\n",
       "    <tr>\n",
       "      <th>6</th>\n",
       "      <td>2.000000</td>\n",
       "      <td>447.000000</td>\n",
       "      <td>28</td>\n",
       "      <td>False</td>\n",
       "      <td>True</td>\n",
       "      <td>True</td>\n",
       "      <td>217</td>\n",
       "      <td>1</td>\n",
       "      <td>-1</td>\n",
       "      <td>0</td>\n",
       "      <td>...</td>\n",
       "      <td>0</td>\n",
       "      <td>0</td>\n",
       "      <td>1</td>\n",
       "      <td>0</td>\n",
       "      <td>1</td>\n",
       "      <td>0</td>\n",
       "      <td>0</td>\n",
       "      <td>0</td>\n",
       "      <td>1</td>\n",
       "      <td>0</td>\n",
       "    </tr>\n",
       "    <tr>\n",
       "      <th>7</th>\n",
       "      <td>1.000000</td>\n",
       "      <td>2.000000</td>\n",
       "      <td>42</td>\n",
       "      <td>True</td>\n",
       "      <td>True</td>\n",
       "      <td>False</td>\n",
       "      <td>380</td>\n",
       "      <td>1</td>\n",
       "      <td>-1</td>\n",
       "      <td>0</td>\n",
       "      <td>...</td>\n",
       "      <td>0</td>\n",
       "      <td>0</td>\n",
       "      <td>1</td>\n",
       "      <td>0</td>\n",
       "      <td>1</td>\n",
       "      <td>0</td>\n",
       "      <td>0</td>\n",
       "      <td>0</td>\n",
       "      <td>1</td>\n",
       "      <td>0</td>\n",
       "    </tr>\n",
       "    <tr>\n",
       "      <th>8</th>\n",
       "      <td>3.977407</td>\n",
       "      <td>1369.845345</td>\n",
       "      <td>58</td>\n",
       "      <td>False</td>\n",
       "      <td>True</td>\n",
       "      <td>False</td>\n",
       "      <td>50</td>\n",
       "      <td>1</td>\n",
       "      <td>-1</td>\n",
       "      <td>0</td>\n",
       "      <td>...</td>\n",
       "      <td>1</td>\n",
       "      <td>0</td>\n",
       "      <td>0</td>\n",
       "      <td>0</td>\n",
       "      <td>1</td>\n",
       "      <td>0</td>\n",
       "      <td>0</td>\n",
       "      <td>1</td>\n",
       "      <td>0</td>\n",
       "      <td>0</td>\n",
       "    </tr>\n",
       "    <tr>\n",
       "      <th>9</th>\n",
       "      <td>2.000000</td>\n",
       "      <td>593.000000</td>\n",
       "      <td>43</td>\n",
       "      <td>False</td>\n",
       "      <td>True</td>\n",
       "      <td>False</td>\n",
       "      <td>55</td>\n",
       "      <td>1</td>\n",
       "      <td>-1</td>\n",
       "      <td>0</td>\n",
       "      <td>...</td>\n",
       "      <td>0</td>\n",
       "      <td>1</td>\n",
       "      <td>0</td>\n",
       "      <td>0</td>\n",
       "      <td>1</td>\n",
       "      <td>0</td>\n",
       "      <td>0</td>\n",
       "      <td>0</td>\n",
       "      <td>1</td>\n",
       "      <td>0</td>\n",
       "    </tr>\n",
       "  </tbody>\n",
       "</table></div>"
      ],
      "text/plain": [
       "   number_transactions  total_amount_usd  age  default  housing   loan  \\\n",
       "0             3.000000       2143.000000   58    False     True  False   \n",
       "1             3.977407       1369.845345   44    False     True  False   \n",
       "2             2.000000          2.000000   33    False     True   True   \n",
       "3             3.977407       1369.845345   47    False     True  False   \n",
       "4             1.000000          1.000000   33    False    False  False   \n",
       "5             2.000000        231.000000   35    False     True  False   \n",
       "6             2.000000        447.000000   28    False     True   True   \n",
       "7             1.000000          2.000000   42     True     True  False   \n",
       "8             3.977407       1369.845345   58    False     True  False   \n",
       "9             2.000000        593.000000   43    False     True  False   \n",
       "\n",
       "   duration  campaign  pdays  previous  ...  education_primary  \\\n",
       "0       261         1     -1         0  ...                  0   \n",
       "1       151         1     -1         0  ...                  0   \n",
       "2        76         1     -1         0  ...                  0   \n",
       "3        92         1     -1         0  ...                  0   \n",
       "4       198         1     -1         0  ...                  0   \n",
       "5       139         1     -1         0  ...                  0   \n",
       "6       217         1     -1         0  ...                  0   \n",
       "7       380         1     -1         0  ...                  0   \n",
       "8        50         1     -1         0  ...                  1   \n",
       "9        55         1     -1         0  ...                  0   \n",
       "\n",
       "   education_secondary  education_tertiary  contact_cellular  \\\n",
       "0                    0                   1                 0   \n",
       "1                    1                   0                 0   \n",
       "2                    1                   0                 0   \n",
       "3                    0                   0                 0   \n",
       "4                    0                   0                 0   \n",
       "5                    0                   1                 0   \n",
       "6                    0                   1                 0   \n",
       "7                    0                   1                 0   \n",
       "8                    0                   0                 0   \n",
       "9                    1                   0                 0   \n",
       "\n",
       "   contact_not contacted  contact_telephone  device_Unknown  device_desktop  \\\n",
       "0                      1                  0               0               0   \n",
       "1                      1                  0               0               1   \n",
       "2                      1                  0               0               0   \n",
       "3                      1                  0               0               0   \n",
       "4                      1                  0               0               0   \n",
       "5                      1                  0               0               1   \n",
       "6                      1                  0               0               0   \n",
       "7                      1                  0               0               0   \n",
       "8                      1                  0               0               1   \n",
       "9                      1                  0               0               0   \n",
       "\n",
       "   device_mobile  device_tablet  \n",
       "0              1              0  \n",
       "1              0              0  \n",
       "2              1              0  \n",
       "3              0              1  \n",
       "4              1              0  \n",
       "5              0              0  \n",
       "6              1              0  \n",
       "7              1              0  \n",
       "8              0              0  \n",
       "9              1              0  \n",
       "\n",
       "[10 rows x 25 columns]"
      ]
     },
     "execution_count": 3,
     "metadata": {},
     "output_type": "execute_result"
    }
   ],
   "source": [
    "# load saved pkl from last notebook\n",
    "\n",
    "users_data = pd.read_pickle(\"../data/users_data_cleaned_and_encoded.pkl\")\n",
    "\n",
    "users_data.head(n = 10)"
   ]
  },
  {
   "cell_type": "code",
   "execution_count": 4,
   "id": "5ac3d800",
   "metadata": {},
   "outputs": [
    {
     "data": {
      "text/plain": [
       "(45179, 25)"
      ]
     },
     "execution_count": 4,
     "metadata": {},
     "output_type": "execute_result"
    }
   ],
   "source": [
    "users_data.shape"
   ]
  },
  {
   "cell_type": "code",
   "execution_count": 5,
   "id": "2d47cbb2",
   "metadata": {},
   "outputs": [
    {
     "data": {
      "text/plain": [
       "number_transactions      0\n",
       "total_amount_usd         0\n",
       "age                      0\n",
       "default                  0\n",
       "housing                  0\n",
       "loan                     0\n",
       "duration                 0\n",
       "campaign                 0\n",
       "pdays                    0\n",
       "previous                 0\n",
       "term_deposit             0\n",
       "marital_divorced         0\n",
       "marital_married          0\n",
       "marital_single           0\n",
       "education_Unknown        0\n",
       "education_primary        0\n",
       "education_secondary      0\n",
       "education_tertiary       0\n",
       "contact_cellular         0\n",
       "contact_not contacted    0\n",
       "contact_telephone        0\n",
       "device_Unknown           0\n",
       "device_desktop           0\n",
       "device_mobile            0\n",
       "device_tablet            0\n",
       "dtype: int64"
      ]
     },
     "execution_count": 5,
     "metadata": {},
     "output_type": "execute_result"
    }
   ],
   "source": [
    "# check that we have no null values\n",
    "\n",
    "users_data.isnull().sum()"
   ]
  },
  {
   "cell_type": "code",
   "execution_count": 6,
   "id": "f95af295",
   "metadata": {},
   "outputs": [
    {
     "name": "stdout",
     "output_type": "stream",
     "text": [
      "<class 'pandas.core.frame.DataFrame'>\n",
      "Int64Index: 45179 entries, 0 to 45215\n",
      "Data columns (total 25 columns):\n",
      " #   Column                 Non-Null Count  Dtype  \n",
      "---  ------                 --------------  -----  \n",
      " 0   number_transactions    45179 non-null  float64\n",
      " 1   total_amount_usd       45179 non-null  float64\n",
      " 2   age                    45179 non-null  int64  \n",
      " 3   default                45179 non-null  bool   \n",
      " 4   housing                45179 non-null  bool   \n",
      " 5   loan                   45179 non-null  bool   \n",
      " 6   duration               45179 non-null  int64  \n",
      " 7   campaign               45179 non-null  int64  \n",
      " 8   pdays                  45179 non-null  int64  \n",
      " 9   previous               45179 non-null  int64  \n",
      " 10  term_deposit           45179 non-null  bool   \n",
      " 11  marital_divorced       45179 non-null  uint8  \n",
      " 12  marital_married        45179 non-null  uint8  \n",
      " 13  marital_single         45179 non-null  uint8  \n",
      " 14  education_Unknown      45179 non-null  uint8  \n",
      " 15  education_primary      45179 non-null  uint8  \n",
      " 16  education_secondary    45179 non-null  uint8  \n",
      " 17  education_tertiary     45179 non-null  uint8  \n",
      " 18  contact_cellular       45179 non-null  uint8  \n",
      " 19  contact_not contacted  45179 non-null  uint8  \n",
      " 20  contact_telephone      45179 non-null  uint8  \n",
      " 21  device_Unknown         45179 non-null  uint8  \n",
      " 22  device_desktop         45179 non-null  uint8  \n",
      " 23  device_mobile          45179 non-null  uint8  \n",
      " 24  device_tablet          45179 non-null  uint8  \n",
      "dtypes: bool(4), float64(2), int64(5), uint8(14)\n",
      "memory usage: 3.5 MB\n"
     ]
    }
   ],
   "source": [
    "# check that there is no non numerical type data\n",
    "\n",
    "users_data.info()"
   ]
  },
  {
   "cell_type": "code",
   "execution_count": 7,
   "id": "f9ae2ae5",
   "metadata": {},
   "outputs": [],
   "source": [
    "# define our features and targets\n",
    "\n",
    "target = users_data['total_amount_usd']\n",
    "features = users_data.drop(['total_amount_usd'], axis = 1)"
   ]
  },
  {
   "cell_type": "code",
   "execution_count": 8,
   "id": "b3e2893a",
   "metadata": {},
   "outputs": [
    {
     "data": {
      "text/plain": [
       "(45179,)"
      ]
     },
     "execution_count": 8,
     "metadata": {},
     "output_type": "execute_result"
    }
   ],
   "source": [
    "# target should have no columns\n",
    "\n",
    "target.shape"
   ]
  },
  {
   "cell_type": "code",
   "execution_count": 9,
   "id": "3ad027f9",
   "metadata": {},
   "outputs": [
    {
     "data": {
      "text/plain": [
       "(45179, 24)"
      ]
     },
     "execution_count": 9,
     "metadata": {},
     "output_type": "execute_result"
    }
   ],
   "source": [
    "features.shape"
   ]
  },
  {
   "cell_type": "code",
   "execution_count": 10,
   "id": "8e579f60",
   "metadata": {},
   "outputs": [
    {
     "data": {
      "text/plain": [
       "count     45179.000000\n",
       "mean       1369.845345\n",
       "std        2704.291315\n",
       "min       -8019.000000\n",
       "25%         160.000000\n",
       "50%         862.000000\n",
       "75%        1369.845345\n",
       "max      102127.000000\n",
       "Name: total_amount_usd, dtype: float64"
      ]
     },
     "execution_count": 10,
     "metadata": {},
     "output_type": "execute_result"
    }
   ],
   "source": [
    "# distribution of the target - contains negative values\n",
    "\n",
    "target.describe()"
   ]
  },
  {
   "cell_type": "code",
   "execution_count": 11,
   "id": "e9b2bd26",
   "metadata": {},
   "outputs": [
    {
     "data": {
      "image/png": "[encoded data removed]",
      "text/plain": [
       "<Figure size 432x288 with 1 Axes>"
      ]
     },
     "metadata": {
      "needs_background": "light"
     },
     "output_type": "display_data"
    }
   ],
   "source": [
    "# Visualisation of the target variable\n",
    "\n",
    "target.hist()\n",
    "plt.title(\"Distribution of the target variable\");"
   ]
  },
  {
   "cell_type": "code",
   "execution_count": 12,
   "id": "45ccea47",
   "metadata": {},
   "outputs": [
    {
     "data": {
      "image/png": "[encoded data removed]",
      "text/plain": [
       "<Figure size 432x288 with 1 Axes>"
      ]
     },
     "metadata": {
      "needs_background": "light"
     },
     "output_type": "display_data"
    }
   ],
   "source": [
    "##### Can look at the boxplot of target variable\n",
    "\n",
    "sns.boxplot(x = target)\n",
    "plt.title(\"Distribution of the target variable\");"
   ]
  },
  {
   "cell_type": "raw",
   "id": "f8647538",
   "metadata": {},
   "source": [
    "##### Another way to make boxplot more pretty\n",
    "\n",
    "plt.figure(figsize=(7, 2))\n",
    "sns.boxplot(x = target, color='red', linewidth=0.8)\n",
    "plt.tick_params(labelsize=8, rotation=0)\n",
    "plt.title('Distribution of the target variable', size=14, weight='bold')\n",
    "plt.show()"
   ]
  },
  {
   "cell_type": "code",
   "execution_count": 13,
   "id": "6c0113a5",
   "metadata": {},
   "outputs": [
    {
     "name": "stderr",
     "output_type": "stream",
     "text": [
      "/Users/tiagoclarenc/anaconda3/lib/python3.9/site-packages/seaborn/_decorators.py:36: FutureWarning: Pass the following variable as a keyword arg: x. From version 0.12, the only valid positional argument will be `data`, and passing other arguments without an explicit keyword will result in an error or misinterpretation.\n",
      "  warnings.warn(\n"
     ]
    },
    {
     "data": {
      "image/png": "[encoded data removed]",
      "text/plain": [
       "<Figure size 432x288 with 1 Axes>"
      ]
     },
     "metadata": {
      "needs_background": "light"
     },
     "output_type": "display_data"
    }
   ],
   "source": [
    "##### violin plot\n",
    "\n",
    "sns.violinplot(target);"
   ]
  },
  {
   "cell_type": "markdown",
   "id": "5deea9b1",
   "metadata": {},
   "source": [
    "### Split the data into a training and test set"
   ]
  },
  {
   "cell_type": "code",
   "execution_count": 14,
   "id": "e895fb7c",
   "metadata": {},
   "outputs": [],
   "source": [
    "# split into test and training data\n",
    "# remember it is common to keep 80% for training data and 20% for test data\n",
    "# 70 - 30 split is also fine\n",
    "\n",
    "X_train, X_test, y_train, y_test = train_test_split(\n",
    "                                                features, \n",
    "                                                target,\n",
    "                                                test_size = 0.2,\n",
    "                                                random_state = 0)"
   ]
  },
  {
   "cell_type": "code",
   "execution_count": 15,
   "id": "50ef7476",
   "metadata": {},
   "outputs": [
    {
     "name": "stdout",
     "output_type": "stream",
     "text": [
      "Training Data\n",
      "X_train shape: (36143, 24)\n",
      "y_train shape: (36143,)\n"
     ]
    }
   ],
   "source": [
    "# print the shape of the training data\n",
    "\n",
    "print(\"Training Data\")\n",
    "print(\"X_train shape:\", X_train.shape)\n",
    "print(\"y_train shape:\", y_train.shape)\n"
   ]
  },
  {
   "cell_type": "code",
   "execution_count": 16,
   "id": "616096cf",
   "metadata": {},
   "outputs": [
    {
     "name": "stdout",
     "output_type": "stream",
     "text": [
      "Test Data\n",
      "X_test shape: (9036, 24)\n",
      "y_test shape: (9036,)\n"
     ]
    }
   ],
   "source": [
    "# print the shape of the test data \n",
    "\n",
    "print(\"Test Data\")\n",
    "print(\"X_test shape:\", X_test.shape)\n",
    "print(\"y_test shape:\", y_test.shape)"
   ]
  },
  {
   "cell_type": "markdown",
   "id": "019f190c",
   "metadata": {},
   "source": [
    "### Scale the training data\n",
    "we need to scale the data when working with distant based features"
   ]
  },
  {
   "cell_type": "code",
   "execution_count": 17,
   "id": "96a8e4a0",
   "metadata": {},
   "outputs": [],
   "source": [
    "# Scale the data (only X_train)\n",
    "\n",
    "scaler = StandardScaler()\n",
    "scaler.fit(X_train)\n",
    "\n",
    "# transform training data\n",
    "X_train_scaled = scaler.transform(X_train)"
   ]
  },
  {
   "cell_type": "code",
   "execution_count": 18,
   "id": "cd5920b4",
   "metadata": {},
   "outputs": [
    {
     "data": {
      "text/plain": [
       "array([[ 7.88824774e-03, -1.02698850e+00, -1.34902635e-01, ...,\n",
       "        -6.03656907e-01, -1.24764757e+00,  2.68421205e+00],\n",
       "       [ 1.49767907e+00, -3.68471399e-01,  7.41275363e+00, ...,\n",
       "        -6.03656907e-01,  8.01508393e-01, -3.72548808e-01],\n",
       "       [-5.88028081e-01,  1.23078443e+00, -1.34902635e-01, ...,\n",
       "        -6.03656907e-01,  8.01508393e-01, -3.72548808e-01],\n",
       "       ...,\n",
       "       [ 1.15649996e-03,  7.82408930e-03, -1.34902635e-01, ...,\n",
       "        -6.03656907e-01,  8.01508393e-01, -3.72548808e-01],\n",
       "       [-2.90069917e-01, -3.68471399e-01, -1.34902635e-01, ...,\n",
       "        -6.03656907e-01,  8.01508393e-01, -3.72548808e-01],\n",
       "       [-5.88028081e-01,  1.01897961e-01, -1.34902635e-01, ...,\n",
       "        -6.03656907e-01, -1.24764757e+00,  2.68421205e+00]])"
      ]
     },
     "execution_count": 18,
     "metadata": {},
     "output_type": "execute_result"
    }
   ],
   "source": [
    "X_train_scaled"
   ]
  },
  {
   "cell_type": "code",
   "execution_count": 19,
   "id": "f24758c9",
   "metadata": {},
   "outputs": [
    {
     "name": "stdout",
     "output_type": "stream",
     "text": [
      "Training Data\n",
      "Shape of X_train_scaled: (36143, 24)\n"
     ]
    }
   ],
   "source": [
    "# print the shape of the scaled training data\n",
    "\n",
    "print(\"Training Data\")\n",
    "print(\"Shape of X_train_scaled:\", X_train_scaled.shape)"
   ]
  },
  {
   "cell_type": "code",
   "execution_count": 20,
   "id": "a1311252",
   "metadata": {},
   "outputs": [
    {
     "data": {
      "text/html": [
       "<div><div id=5cb8acb7-8857-412b-91b6-a7ec606c0399 style=\"display:none; background-color:#9D6CFF; color:white; width:200px; height:30px; padding-left:5px; border-radius:4px; flex-direction:row; justify-content:space-around; align-items:center;\" onmouseover=\"this.style.backgroundColor='#BA9BF8'\" onmouseout=\"this.style.backgroundColor='#9D6CFF'\" onclick=\"window.commands?.execute('create-mitosheet-from-dataframe-output');\">See Full Dataframe in Mito</div> <script> if (window.commands?.hasCommand('create-mitosheet-from-dataframe-output')) document.getElementById('5cb8acb7-8857-412b-91b6-a7ec606c0399').style.display = 'flex' </script> <table border=\"1\" class=\"dataframe\">\n",
       "  <thead>\n",
       "    <tr style=\"text-align: right;\">\n",
       "      <th></th>\n",
       "      <th>number_transactions</th>\n",
       "      <th>age</th>\n",
       "      <th>default</th>\n",
       "      <th>housing</th>\n",
       "      <th>loan</th>\n",
       "      <th>duration</th>\n",
       "      <th>campaign</th>\n",
       "      <th>pdays</th>\n",
       "      <th>previous</th>\n",
       "      <th>term_deposit</th>\n",
       "      <th>...</th>\n",
       "      <th>education_primary</th>\n",
       "      <th>education_secondary</th>\n",
       "      <th>education_tertiary</th>\n",
       "      <th>contact_cellular</th>\n",
       "      <th>contact_not contacted</th>\n",
       "      <th>contact_telephone</th>\n",
       "      <th>device_Unknown</th>\n",
       "      <th>device_desktop</th>\n",
       "      <th>device_mobile</th>\n",
       "      <th>device_tablet</th>\n",
       "    </tr>\n",
       "  </thead>\n",
       "  <tbody>\n",
       "    <tr>\n",
       "      <th>41705</th>\n",
       "      <td>4.0</td>\n",
       "      <td>30</td>\n",
       "      <td>False</td>\n",
       "      <td>False</td>\n",
       "      <td>False</td>\n",
       "      <td>384</td>\n",
       "      <td>2</td>\n",
       "      <td>-1</td>\n",
       "      <td>0</td>\n",
       "      <td>True</td>\n",
       "      <td>...</td>\n",
       "      <td>0</td>\n",
       "      <td>0</td>\n",
       "      <td>1</td>\n",
       "      <td>1</td>\n",
       "      <td>0</td>\n",
       "      <td>0</td>\n",
       "      <td>0</td>\n",
       "      <td>0</td>\n",
       "      <td>0</td>\n",
       "      <td>1</td>\n",
       "    </tr>\n",
       "    <tr>\n",
       "      <th>24259</th>\n",
       "      <td>9.0</td>\n",
       "      <td>37</td>\n",
       "      <td>True</td>\n",
       "      <td>False</td>\n",
       "      <td>False</td>\n",
       "      <td>44</td>\n",
       "      <td>1</td>\n",
       "      <td>123</td>\n",
       "      <td>2</td>\n",
       "      <td>False</td>\n",
       "      <td>...</td>\n",
       "      <td>0</td>\n",
       "      <td>0</td>\n",
       "      <td>1</td>\n",
       "      <td>1</td>\n",
       "      <td>0</td>\n",
       "      <td>0</td>\n",
       "      <td>0</td>\n",
       "      <td>0</td>\n",
       "      <td>1</td>\n",
       "      <td>0</td>\n",
       "    </tr>\n",
       "    <tr>\n",
       "      <th>3415</th>\n",
       "      <td>2.0</td>\n",
       "      <td>54</td>\n",
       "      <td>False</td>\n",
       "      <td>True</td>\n",
       "      <td>False</td>\n",
       "      <td>138</td>\n",
       "      <td>2</td>\n",
       "      <td>-1</td>\n",
       "      <td>0</td>\n",
       "      <td>False</td>\n",
       "      <td>...</td>\n",
       "      <td>0</td>\n",
       "      <td>0</td>\n",
       "      <td>0</td>\n",
       "      <td>0</td>\n",
       "      <td>1</td>\n",
       "      <td>0</td>\n",
       "      <td>0</td>\n",
       "      <td>0</td>\n",
       "      <td>1</td>\n",
       "      <td>0</td>\n",
       "    </tr>\n",
       "    <tr>\n",
       "      <th>22827</th>\n",
       "      <td>2.0</td>\n",
       "      <td>47</td>\n",
       "      <td>False</td>\n",
       "      <td>True</td>\n",
       "      <td>False</td>\n",
       "      <td>163</td>\n",
       "      <td>8</td>\n",
       "      <td>-1</td>\n",
       "      <td>0</td>\n",
       "      <td>False</td>\n",
       "      <td>...</td>\n",
       "      <td>0</td>\n",
       "      <td>1</td>\n",
       "      <td>0</td>\n",
       "      <td>1</td>\n",
       "      <td>0</td>\n",
       "      <td>0</td>\n",
       "      <td>0</td>\n",
       "      <td>0</td>\n",
       "      <td>1</td>\n",
       "      <td>0</td>\n",
       "    </tr>\n",
       "    <tr>\n",
       "      <th>1797</th>\n",
       "      <td>15.0</td>\n",
       "      <td>29</td>\n",
       "      <td>False</td>\n",
       "      <td>True</td>\n",
       "      <td>False</td>\n",
       "      <td>108</td>\n",
       "      <td>2</td>\n",
       "      <td>-1</td>\n",
       "      <td>0</td>\n",
       "      <td>False</td>\n",
       "      <td>...</td>\n",
       "      <td>0</td>\n",
       "      <td>1</td>\n",
       "      <td>0</td>\n",
       "      <td>0</td>\n",
       "      <td>1</td>\n",
       "      <td>0</td>\n",
       "      <td>0</td>\n",
       "      <td>0</td>\n",
       "      <td>1</td>\n",
       "      <td>0</td>\n",
       "    </tr>\n",
       "  </tbody>\n",
       "</table></div>"
      ],
      "text/plain": [
       "       number_transactions  age  default  housing   loan  duration  campaign  \\\n",
       "41705                  4.0   30    False    False  False       384         2   \n",
       "24259                  9.0   37     True    False  False        44         1   \n",
       "3415                   2.0   54    False     True  False       138         2   \n",
       "22827                  2.0   47    False     True  False       163         8   \n",
       "1797                  15.0   29    False     True  False       108         2   \n",
       "\n",
       "       pdays  previous  term_deposit  ...  education_primary  \\\n",
       "41705     -1         0          True  ...                  0   \n",
       "24259    123         2         False  ...                  0   \n",
       "3415      -1         0         False  ...                  0   \n",
       "22827     -1         0         False  ...                  0   \n",
       "1797      -1         0         False  ...                  0   \n",
       "\n",
       "       education_secondary  education_tertiary  contact_cellular  \\\n",
       "41705                    0                   1                 1   \n",
       "24259                    0                   1                 1   \n",
       "3415                     0                   0                 0   \n",
       "22827                    1                   0                 1   \n",
       "1797                     1                   0                 0   \n",
       "\n",
       "       contact_not contacted  contact_telephone  device_Unknown  \\\n",
       "41705                      0                  0               0   \n",
       "24259                      0                  0               0   \n",
       "3415                       1                  0               0   \n",
       "22827                      0                  0               0   \n",
       "1797                       1                  0               0   \n",
       "\n",
       "       device_desktop  device_mobile  device_tablet  \n",
       "41705               0              0              1  \n",
       "24259               0              1              0  \n",
       "3415                0              1              0  \n",
       "22827               0              1              0  \n",
       "1797                0              1              0  \n",
       "\n",
       "[5 rows x 24 columns]"
      ]
     },
     "execution_count": 20,
     "metadata": {},
     "output_type": "execute_result"
    }
   ],
   "source": [
    "X_train.head()"
   ]
  },
  {
   "cell_type": "markdown",
   "id": "7bb9f24f",
   "metadata": {},
   "source": [
    "### Import the Logistic Regression model from sklearn and call it lr"
   ]
  },
  {
   "cell_type": "code",
   "execution_count": 21,
   "id": "a200cb4b",
   "metadata": {},
   "outputs": [
    {
     "data": {
      "text/plain": [
       "LinearRegression()"
      ]
     },
     "execution_count": 21,
     "metadata": {},
     "output_type": "execute_result"
    }
   ],
   "source": [
    "# Import the Linear Regression model from sklearn and call it lr\n",
    "\n",
    "lr = LinearRegression()\n",
    "lr"
   ]
  },
  {
   "cell_type": "markdown",
   "id": "db48dffb",
   "metadata": {},
   "source": [
    "### Fit the algorithm on the training data"
   ]
  },
  {
   "cell_type": "code",
   "execution_count": 22,
   "id": "45e83f48",
   "metadata": {},
   "outputs": [
    {
     "data": {
      "text/plain": [
       "LinearRegression()"
      ]
     },
     "execution_count": 22,
     "metadata": {},
     "output_type": "execute_result"
    }
   ],
   "source": [
    "# Fit the model on the \"training data\"\n",
    "\n",
    "lr.fit(X_train_scaled, y_train) \n",
    "\n",
    "# OUR MACHINE LEARNING MODEL"
   ]
  },
  {
   "cell_type": "code",
   "execution_count": 23,
   "id": "1ef5c2af",
   "metadata": {},
   "outputs": [
    {
     "data": {
      "text/plain": [
       "6317     1196.000000\n",
       "16336     566.000000\n",
       "15161    1369.845345\n",
       "43527    4833.000000\n",
       "13686       3.000000\n",
       "            ...     \n",
       "17263    1369.845345\n",
       "42253    3417.000000\n",
       "5388       51.000000\n",
       "12128     703.000000\n",
       "4957     1067.000000\n",
       "Name: total_amount_usd, Length: 9036, dtype: float64"
      ]
     },
     "execution_count": 23,
     "metadata": {},
     "output_type": "execute_result"
    }
   ],
   "source": [
    "y_test"
   ]
  },
  {
   "cell_type": "markdown",
   "id": "18635de2",
   "metadata": {},
   "source": [
    "### Evaluate how well the model predicts on unseen data "
   ]
  },
  {
   "cell_type": "code",
   "execution_count": 24,
   "id": "0332c58b",
   "metadata": {},
   "outputs": [
    {
     "data": {
      "text/plain": [
       "array([-1.71842927e+15, -1.92103711e+15, -1.91222580e+15, ...,\n",
       "       -1.74103214e+15, -1.88339046e+15, -1.88447835e+15])"
      ]
     },
     "execution_count": 24,
     "metadata": {},
     "output_type": "execute_result"
    }
   ],
   "source": [
    "# Evaluate how well the model predicts on unseen data aka \"test data\"\n",
    "\n",
    "y_pred = lr.predict(X_test) \n",
    "y_pred"
   ]
  },
  {
   "cell_type": "code",
   "execution_count": 25,
   "id": "504530d3",
   "metadata": {},
   "outputs": [
    {
     "name": "stdout",
     "output_type": "stream",
     "text": [
      "first five predicted total amounts: [-1.71842927e+15 -1.92103711e+15 -1.91222580e+15 -2.55532636e+15\n",
      " -2.00082110e+15]\n",
      "first five actual total amounts: [1196.0, 566.0, 1369.8453450039785, 4833.0, 3.0]\n"
     ]
    }
   ],
   "source": [
    "# compare the first five predictions with the actual values\n",
    "\n",
    "print(\"first five predicted total amounts:\", y_pred[0:5])\n",
    "print(\"first five actual total amounts:\", list(y_test[0:5]))"
   ]
  },
  {
   "cell_type": "markdown",
   "id": "f79ead21",
   "metadata": {},
   "source": [
    "# Evaluate model performance"
   ]
  },
  {
   "cell_type": "markdown",
   "id": "0b22c363",
   "metadata": {},
   "source": [
    "### Use r2 to evaluate the performance of the model"
   ]
  },
  {
   "cell_type": "code",
   "execution_count": 26,
   "id": "c148f2e2",
   "metadata": {},
   "outputs": [
    {
     "name": "stdout",
     "output_type": "stream",
     "text": [
      "R2: -6.493372991395257e+23\n"
     ]
    }
   ],
   "source": [
    "# We will use r2 to evaluate the model performance.\n",
    "# the evaluation metrics for the model on the test set\n",
    "\n",
    "r2 = r2_score(y_test, y_pred)\n",
    "print(\"R2:\", round(r2, 2))\n",
    "\n",
    "# R^2 (coefficient of determination) regression score function.\n",
    "# Best possible score is 1.0 and it can be negative (because the model can be arbitrarily worse). "
   ]
  },
  {
   "cell_type": "markdown",
   "id": "0e82388b",
   "metadata": {},
   "source": [
    "### Use MSE to evaluate the performance of the model"
   ]
  },
  {
   "cell_type": "code",
   "execution_count": 27,
   "id": "b2d2621b",
   "metadata": {},
   "outputs": [
    {
     "name": "stdout",
     "output_type": "stream",
     "text": [
      "Mean Squared Error: 3.7463211381821945e+30\n"
     ]
    }
   ],
   "source": [
    "# We will also use MSE to evaluate the model performance.\n",
    "# the evaluation metrics for the model on the test set\n",
    "\n",
    "mse = mean_squared_error(y_test, y_pred)\n",
    "print(\"Mean Squared Error:\", round(mse, 2))"
   ]
  },
  {
   "cell_type": "code",
   "execution_count": null,
   "id": "a16a1f05",
   "metadata": {},
   "outputs": [],
   "source": []
  }
 ],
 "metadata": {
  "kernelspec": {
   "display_name": "Python 3 (ipykernel)",
   "language": "python",
   "name": "python3"
  },
  "language_info": {
   "codemirror_mode": {
    "name": "ipython",
    "version": 3
   },
   "file_extension": ".py",
   "mimetype": "text/x-python",
   "name": "python",
   "nbconvert_exporter": "python",
   "pygments_lexer": "ipython3",
   "version": "3.9.7"
  }
 },
 "nbformat": 4,
 "nbformat_minor": 5
}
