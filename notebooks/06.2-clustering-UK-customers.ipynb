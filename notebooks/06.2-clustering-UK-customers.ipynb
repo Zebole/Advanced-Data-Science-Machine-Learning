{
 "cells": [
  {
   "cell_type": "code",
   "execution_count": 1,
   "id": "84a8f5b0",
   "metadata": {},
   "outputs": [],
   "source": [
    "# import libraries\n",
    "\n",
    "import pandas as pd\n",
    "import numpy as np\n",
    "import matplotlib.pyplot as plt\n",
    "import seaborn as sns"
   ]
  },
  {
   "cell_type": "code",
   "execution_count": 19,
   "id": "410c8308",
   "metadata": {},
   "outputs": [],
   "source": [
    "from sklearn.preprocessing import StandardScaler\n",
    "from sklearn.cluster import KMeans\n",
    "from collections import Counter"
   ]
  },
  {
   "cell_type": "code",
   "execution_count": 14,
   "id": "7ce6759f",
   "metadata": {},
   "outputs": [
    {
     "data": {
      "text/html": [
       "<div><div id=13fce26d-40ef-43d6-9119-07afe2230d61 style=\"display:none; background-color:#9D6CFF; color:white; width:200px; height:30px; padding-left:5px; border-radius:4px; flex-direction:row; justify-content:space-around; align-items:center;\" onmouseover=\"this.style.backgroundColor='#BA9BF8'\" onmouseout=\"this.style.backgroundColor='#9D6CFF'\" onclick=\"window.commands?.execute('create-mitosheet-from-dataframe-output');\">See Full Dataframe in Mito</div> <script> if (window.commands?.hasCommand('create-mitosheet-from-dataframe-output')) document.getElementById('13fce26d-40ef-43d6-9119-07afe2230d61').style.display = 'flex' </script> <table border=\"1\" class=\"dataframe\">\n",
       "  <thead>\n",
       "    <tr style=\"text-align: right;\">\n",
       "      <th></th>\n",
       "      <th>Frequency</th>\n",
       "      <th>Monetary</th>\n",
       "      <th>Recency</th>\n",
       "    </tr>\n",
       "    <tr>\n",
       "      <th>CustomerID</th>\n",
       "      <th></th>\n",
       "      <th></th>\n",
       "      <th></th>\n",
       "    </tr>\n",
       "  </thead>\n",
       "  <tbody>\n",
       "    <tr>\n",
       "      <th>u12346</th>\n",
       "      <td>1</td>\n",
       "      <td>77183.60</td>\n",
       "      <td>325</td>\n",
       "    </tr>\n",
       "    <tr>\n",
       "      <th>u12747</th>\n",
       "      <td>11</td>\n",
       "      <td>3763.01</td>\n",
       "      <td>1</td>\n",
       "    </tr>\n",
       "    <tr>\n",
       "      <th>u12748</th>\n",
       "      <td>202</td>\n",
       "      <td>28308.44</td>\n",
       "      <td>0</td>\n",
       "    </tr>\n",
       "    <tr>\n",
       "      <th>u12749</th>\n",
       "      <td>5</td>\n",
       "      <td>2720.63</td>\n",
       "      <td>3</td>\n",
       "    </tr>\n",
       "    <tr>\n",
       "      <th>u1282</th>\n",
       "      <td>4</td>\n",
       "      <td>942.34</td>\n",
       "      <td>2</td>\n",
       "    </tr>\n",
       "  </tbody>\n",
       "</table></div>"
      ],
      "text/plain": [
       "            Frequency  Monetary  Recency\n",
       "CustomerID                              \n",
       "u12346              1  77183.60      325\n",
       "u12747             11   3763.01        1\n",
       "u12748            202  28308.44        0\n",
       "u12749              5   2720.63        3\n",
       "u1282               4    942.34        2"
      ]
     },
     "execution_count": 14,
     "metadata": {},
     "output_type": "execute_result"
    }
   ],
   "source": [
    "# read the data\n",
    "\n",
    "UK_customers_data = pd.read_pickle(\"../data/UK_customers_rfm.pkl\")\n",
    "\n",
    "# preview the data\n",
    "\n",
    "UK_customers_data.head(n = 5)"
   ]
  },
  {
   "cell_type": "code",
   "execution_count": 3,
   "id": "5267306f",
   "metadata": {},
   "outputs": [
    {
     "data": {
      "text/html": [
       "<div><div id=df823731-df17-440d-ba98-f04ea54b7445 style=\"display:none; background-color:#9D6CFF; color:white; width:200px; height:30px; padding-left:5px; border-radius:4px; flex-direction:row; justify-content:space-around; align-items:center;\" onmouseover=\"this.style.backgroundColor='#BA9BF8'\" onmouseout=\"this.style.backgroundColor='#9D6CFF'\" onclick=\"window.commands?.execute('create-mitosheet-from-dataframe-output');\">See Full Dataframe in Mito</div> <script> if (window.commands?.hasCommand('create-mitosheet-from-dataframe-output')) document.getElementById('df823731-df17-440d-ba98-f04ea54b7445').style.display = 'flex' </script> <table border=\"1\" class=\"dataframe\">\n",
       "  <thead>\n",
       "    <tr style=\"text-align: right;\">\n",
       "      <th></th>\n",
       "      <th>Frequency</th>\n",
       "      <th>Monetary</th>\n",
       "      <th>Recency</th>\n",
       "    </tr>\n",
       "  </thead>\n",
       "  <tbody>\n",
       "    <tr>\n",
       "      <th>count</th>\n",
       "      <td>3891.000000</td>\n",
       "      <td>3891.000000</td>\n",
       "      <td>3891.000000</td>\n",
       "    </tr>\n",
       "    <tr>\n",
       "      <th>mean</th>\n",
       "      <td>4.193010</td>\n",
       "      <td>1625.351723</td>\n",
       "      <td>90.868928</td>\n",
       "    </tr>\n",
       "    <tr>\n",
       "      <th>std</th>\n",
       "      <td>7.045063</td>\n",
       "      <td>6744.803129</td>\n",
       "      <td>99.393812</td>\n",
       "    </tr>\n",
       "    <tr>\n",
       "      <th>min</th>\n",
       "      <td>1.000000</td>\n",
       "      <td>0.000000</td>\n",
       "      <td>0.000000</td>\n",
       "    </tr>\n",
       "    <tr>\n",
       "      <th>25%</th>\n",
       "      <td>1.000000</td>\n",
       "      <td>243.430000</td>\n",
       "      <td>17.000000</td>\n",
       "    </tr>\n",
       "    <tr>\n",
       "      <th>50%</th>\n",
       "      <td>2.000000</td>\n",
       "      <td>548.280000</td>\n",
       "      <td>49.000000</td>\n",
       "    </tr>\n",
       "    <tr>\n",
       "      <th>75%</th>\n",
       "      <td>5.000000</td>\n",
       "      <td>1368.345000</td>\n",
       "      <td>140.500000</td>\n",
       "    </tr>\n",
       "    <tr>\n",
       "      <th>max</th>\n",
       "      <td>202.000000</td>\n",
       "      <td>221190.810000</td>\n",
       "      <td>373.000000</td>\n",
       "    </tr>\n",
       "  </tbody>\n",
       "</table></div>"
      ],
      "text/plain": [
       "         Frequency       Monetary      Recency\n",
       "count  3891.000000    3891.000000  3891.000000\n",
       "mean      4.193010    1625.351723    90.868928\n",
       "std       7.045063    6744.803129    99.393812\n",
       "min       1.000000       0.000000     0.000000\n",
       "25%       1.000000     243.430000    17.000000\n",
       "50%       2.000000     548.280000    49.000000\n",
       "75%       5.000000    1368.345000   140.500000\n",
       "max     202.000000  221190.810000   373.000000"
      ]
     },
     "execution_count": 3,
     "metadata": {},
     "output_type": "execute_result"
    }
   ],
   "source": [
    "# distribution of the data\n",
    "\n",
    "UK_customers_data.describe()"
   ]
  },
  {
   "cell_type": "code",
   "execution_count": 4,
   "id": "9167d015",
   "metadata": {},
   "outputs": [
    {
     "name": "stdout",
     "output_type": "stream",
     "text": [
      "Total Number of Customers: 3891\n"
     ]
    }
   ],
   "source": [
    "# print the number of customers\n",
    "\n",
    "print(\"Total Number of Customers:\", (UK_customers_data.shape[0]))"
   ]
  },
  {
   "cell_type": "markdown",
   "id": "b00ac98c",
   "metadata": {},
   "source": [
    "## Scale the data"
   ]
  },
  {
   "cell_type": "code",
   "execution_count": 8,
   "id": "ac8f5fcb",
   "metadata": {},
   "outputs": [
    {
     "name": "stdout",
     "output_type": "stream",
     "text": [
      "New std deviation: 1.0\n",
      "New mean: 0\n"
     ]
    }
   ],
   "source": [
    "# cluster the customer data\n",
    "\n",
    "# step 1: scale the data\n",
    "\n",
    "scaler = StandardScaler()\n",
    "\n",
    "scaler.fit(UK_customers_data)\n",
    "\n",
    "UK_customers_scaled = scaler.transform(UK_customers_data)\n",
    "print('New std deviation:', UK_customers_scaled.std())\n",
    "print('New mean:', round(UK_customers_scaled.mean()))\n",
    "\n",
    "# normalized data has a mean of 0 and std of 1"
   ]
  },
  {
   "cell_type": "markdown",
   "id": "de47dc7e",
   "metadata": {},
   "source": [
    "## Function identify optimal number of clusters we want to segment the data"
   ]
  },
  {
   "cell_type": "code",
   "execution_count": 9,
   "id": "13ebd5de",
   "metadata": {},
   "outputs": [],
   "source": [
    "# step 2: identify optimal number of clusters we want to segment the data\n",
    "\n",
    "def optimal_number_clusters(data_scaled):\n",
    "    \"\"\"\n",
    "    Calculates optimal number of clusted based on Elbow Method\n",
    "    \n",
    "    parameters: scaled data\n",
    "    \"\"\"\n",
    "    Sum_of_squared_distances = []\n",
    "    K = range(1, 30) # define the range of clusters we would like to cluster the data into\n",
    "\n",
    "    for k in K:\n",
    "        km = KMeans(n_clusters = k)\n",
    "        km = km.fit(data_scaled)\n",
    "        Sum_of_squared_distances.append(km.inertia_)\n",
    "\n",
    "    plt.figure(figsize=(20,6))\n",
    "\n",
    "    plt.plot(K, Sum_of_squared_distances, 'bx-')\n",
    "    plt.xlabel('k')\n",
    "    plt.ylabel('Sum_of_squared_distances')\n",
    "    plt.title('Elbow Method For Optimal k')\n",
    "    plt.show()"
   ]
  },
  {
   "cell_type": "code",
   "execution_count": 13,
   "id": "4b6dd9d2",
   "metadata": {},
   "outputs": [
    {
     "data": {
      "image/png": "[encoded data removed]",
      "text/plain": [
       "<Figure size 1440x432 with 1 Axes>"
      ]
     },
     "metadata": {
      "needs_background": "light"
     },
     "output_type": "display_data"
    }
   ],
   "source": [
    "optimal_number_clusters(UK_customers_scaled)\n",
    "\n",
    "# Question: Where is the elbow forming? \n",
    "# identifying clusters: https://medium.com/analytics-vidhya/how-to-determine-the-optimal-k-for-k-means-708505d204eb"
   ]
  },
  {
   "cell_type": "code",
   "execution_count": 15,
   "id": "fb491c0d",
   "metadata": {},
   "outputs": [
    {
     "data": {
      "text/plain": [
       "KMeans(n_clusters=5, random_state=10)"
      ]
     },
     "execution_count": 15,
     "metadata": {},
     "output_type": "execute_result"
    }
   ],
   "source": [
    "# THE MACHINE LEARNING ALGORITHM\n",
    "\n",
    "n_clusters = 5 # define the number of clusters, where the elbow if formed\n",
    "\n",
    "kmeans = KMeans(n_clusters = n_clusters, random_state = 10) # initialize the k-means function\n",
    "kmeans.fit(UK_customers_scaled) # fit to the summary scaled data"
   ]
  },
  {
   "cell_type": "code",
   "execution_count": 16,
   "id": "71c663c6",
   "metadata": {},
   "outputs": [],
   "source": [
    "# predict the clusters for the users\n",
    "\n",
    "y_kmeans = kmeans.predict(UK_customers_scaled)"
   ]
  },
  {
   "cell_type": "code",
   "execution_count": 18,
   "id": "d4f5eaf3",
   "metadata": {},
   "outputs": [
    {
     "data": {
      "text/plain": [
       "array([2, 3, 2, ..., 0, 3, 0], dtype=int32)"
      ]
     },
     "execution_count": 18,
     "metadata": {},
     "output_type": "execute_result"
    }
   ],
   "source": [
    "y_kmeans"
   ]
  },
  {
   "cell_type": "code",
   "execution_count": 20,
   "id": "76b63216",
   "metadata": {},
   "outputs": [
    {
     "data": {
      "image/png": "[encoded data removed]",
      "text/plain": [
       "<Figure size 432x288 with 1 Axes>"
      ]
     },
     "metadata": {
      "needs_background": "light"
     },
     "output_type": "display_data"
    }
   ],
   "source": [
    "# check the distribution of the clusters\n",
    "\n",
    "pd.DataFrame(Counter(y_kmeans).most_common()).set_index(0).plot.bar(legend=None)\n",
    "plt.title('Distribution of Clusters')\n",
    "plt.xlabel('Cluster ID')\n",
    "plt.ylabel('# of users belonging to the cluster');"
   ]
  },
  {
   "cell_type": "code",
   "execution_count": 21,
   "id": "8d06807a",
   "metadata": {},
   "outputs": [
    {
     "data": {
      "text/plain": [
       "Counter({2: 19, 3: 276, 0: 2639, 1: 954, 4: 3})"
      ]
     },
     "execution_count": 21,
     "metadata": {},
     "output_type": "execute_result"
    }
   ],
   "source": [
    "Counter(y_kmeans)"
   ]
  },
  {
   "cell_type": "markdown",
   "id": "8ccbb23d",
   "metadata": {},
   "source": [
    "## Check the centroids for each cluster"
   ]
  },
  {
   "cell_type": "code",
   "execution_count": 24,
   "id": "eef3ebed",
   "metadata": {},
   "outputs": [
    {
     "name": "stdout",
     "output_type": "stream",
     "text": [
      "The centroids for the clusters\n"
     ]
    },
    {
     "data": {
      "text/html": [
       "<div><div id=05e452c5-50c5-4473-b7a7-27b85861d7bf style=\"display:none; background-color:#9D6CFF; color:white; width:200px; height:30px; padding-left:5px; border-radius:4px; flex-direction:row; justify-content:space-around; align-items:center;\" onmouseover=\"this.style.backgroundColor='#BA9BF8'\" onmouseout=\"this.style.backgroundColor='#9D6CFF'\" onclick=\"window.commands?.execute('create-mitosheet-from-dataframe-output');\">See Full Dataframe in Mito</div> <script> if (window.commands?.hasCommand('create-mitosheet-from-dataframe-output')) document.getElementById('05e452c5-50c5-4473-b7a7-27b85861d7bf').style.display = 'flex' </script> <table border=\"1\" class=\"dataframe\">\n",
       "  <thead>\n",
       "    <tr style=\"text-align: right;\">\n",
       "      <th></th>\n",
       "      <th>Frequency</th>\n",
       "      <th>Monetary</th>\n",
       "      <th>Recency</th>\n",
       "    </tr>\n",
       "  </thead>\n",
       "  <tbody>\n",
       "    <tr>\n",
       "      <th>0</th>\n",
       "      <td>-0.124013</td>\n",
       "      <td>-0.092798</td>\n",
       "      <td>-0.476725</td>\n",
       "    </tr>\n",
       "    <tr>\n",
       "      <th>1</th>\n",
       "      <td>-0.375459</td>\n",
       "      <td>-0.186176</td>\n",
       "      <td>1.557819</td>\n",
       "    </tr>\n",
       "    <tr>\n",
       "      <th>2</th>\n",
       "      <td>8.527655</td>\n",
       "      <td>6.482827</td>\n",
       "      <td>-0.695627</td>\n",
       "    </tr>\n",
       "    <tr>\n",
       "      <th>3</th>\n",
       "      <td>1.851020</td>\n",
       "      <td>0.780624</td>\n",
       "      <td>-0.768810</td>\n",
       "    </tr>\n",
       "    <tr>\n",
       "      <th>4</th>\n",
       "      <td>4.184128</td>\n",
       "      <td>27.960322</td>\n",
       "      <td>-0.890870</td>\n",
       "    </tr>\n",
       "  </tbody>\n",
       "</table></div>"
      ],
      "text/plain": [
       "   Frequency   Monetary   Recency\n",
       "0  -0.124013  -0.092798 -0.476725\n",
       "1  -0.375459  -0.186176  1.557819\n",
       "2   8.527655   6.482827 -0.695627\n",
       "3   1.851020   0.780624 -0.768810\n",
       "4   4.184128  27.960322 -0.890870"
      ]
     },
     "execution_count": 24,
     "metadata": {},
     "output_type": "execute_result"
    }
   ],
   "source": [
    "print(\"The centroids for the clusters\")\n",
    "\n",
    "pd.DataFrame(kmeans.cluster_centers_, columns = UK_customers_data.columns)\n"
   ]
  },
  {
   "cell_type": "code",
   "execution_count": 26,
   "id": "4979fe72",
   "metadata": {},
   "outputs": [
    {
     "data": {
      "text/html": [
       "<div><div id=96201b4b-fd15-40af-b236-d8db8645c8c1 style=\"display:none; background-color:#9D6CFF; color:white; width:200px; height:30px; padding-left:5px; border-radius:4px; flex-direction:row; justify-content:space-around; align-items:center;\" onmouseover=\"this.style.backgroundColor='#BA9BF8'\" onmouseout=\"this.style.backgroundColor='#9D6CFF'\" onclick=\"window.commands?.execute('create-mitosheet-from-dataframe-output');\">See Full Dataframe in Mito</div> <script> if (window.commands?.hasCommand('create-mitosheet-from-dataframe-output')) document.getElementById('96201b4b-fd15-40af-b236-d8db8645c8c1').style.display = 'flex' </script> <table border=\"1\" class=\"dataframe\">\n",
       "  <thead>\n",
       "    <tr style=\"text-align: right;\">\n",
       "      <th></th>\n",
       "      <th>Frequency</th>\n",
       "      <th>Monetary</th>\n",
       "      <th>Recency</th>\n",
       "      <th>cluster</th>\n",
       "    </tr>\n",
       "    <tr>\n",
       "      <th>CustomerID</th>\n",
       "      <th></th>\n",
       "      <th></th>\n",
       "      <th></th>\n",
       "      <th></th>\n",
       "    </tr>\n",
       "  </thead>\n",
       "  <tbody>\n",
       "    <tr>\n",
       "      <th>u12346</th>\n",
       "      <td>1</td>\n",
       "      <td>77183.60</td>\n",
       "      <td>325</td>\n",
       "      <td>2</td>\n",
       "    </tr>\n",
       "    <tr>\n",
       "      <th>u12747</th>\n",
       "      <td>11</td>\n",
       "      <td>3763.01</td>\n",
       "      <td>1</td>\n",
       "      <td>3</td>\n",
       "    </tr>\n",
       "    <tr>\n",
       "      <th>u12748</th>\n",
       "      <td>202</td>\n",
       "      <td>28308.44</td>\n",
       "      <td>0</td>\n",
       "      <td>2</td>\n",
       "    </tr>\n",
       "    <tr>\n",
       "      <th>u12749</th>\n",
       "      <td>5</td>\n",
       "      <td>2720.63</td>\n",
       "      <td>3</td>\n",
       "      <td>0</td>\n",
       "    </tr>\n",
       "    <tr>\n",
       "      <th>u1282</th>\n",
       "      <td>4</td>\n",
       "      <td>942.34</td>\n",
       "      <td>2</td>\n",
       "      <td>0</td>\n",
       "    </tr>\n",
       "  </tbody>\n",
       "</table></div>"
      ],
      "text/plain": [
       "            Frequency  Monetary  Recency  cluster\n",
       "CustomerID                                       \n",
       "u12346              1  77183.60      325        2\n",
       "u12747             11   3763.01        1        3\n",
       "u12748            202  28308.44        0        2\n",
       "u12749              5   2720.63        3        0\n",
       "u1282               4    942.34        2        0"
      ]
     },
     "execution_count": 26,
     "metadata": {},
     "output_type": "execute_result"
    }
   ],
   "source": [
    "# join this to our data frame\n",
    "\n",
    "results = pd.DataFrame(UK_customers_data.copy())\n",
    "results.insert(3, 'cluster', y_kmeans)\n",
    "results.head()\n",
    "\n",
    "# the customers and their assigned clusters"
   ]
  },
  {
   "cell_type": "code",
   "execution_count": 28,
   "id": "52ab6419",
   "metadata": {},
   "outputs": [
    {
     "data": {
      "text/plain": [
       "0    2639\n",
       "1     954\n",
       "3     276\n",
       "2      19\n",
       "4       3\n",
       "Name: cluster, dtype: int64"
      ]
     },
     "execution_count": 28,
     "metadata": {},
     "output_type": "execute_result"
    }
   ],
   "source": [
    "results['cluster'].value_counts()"
   ]
  },
  {
   "cell_type": "code",
   "execution_count": 30,
   "id": "88e13d81",
   "metadata": {},
   "outputs": [
    {
     "data": {
      "text/html": [
       "<div><div id=d616ae8c-deaa-400e-96e2-1871cdd170d0 style=\"display:none; background-color:#9D6CFF; color:white; width:200px; height:30px; padding-left:5px; border-radius:4px; flex-direction:row; justify-content:space-around; align-items:center;\" onmouseover=\"this.style.backgroundColor='#BA9BF8'\" onmouseout=\"this.style.backgroundColor='#9D6CFF'\" onclick=\"window.commands?.execute('create-mitosheet-from-dataframe-output');\">See Full Dataframe in Mito</div> <script> if (window.commands?.hasCommand('create-mitosheet-from-dataframe-output')) document.getElementById('d616ae8c-deaa-400e-96e2-1871cdd170d0').style.display = 'flex' </script> <table border=\"1\" class=\"dataframe\">\n",
       "  <thead>\n",
       "    <tr style=\"text-align: right;\">\n",
       "      <th></th>\n",
       "      <th>Frequency</th>\n",
       "      <th>Monetary</th>\n",
       "      <th>Recency</th>\n",
       "      <th>cluster</th>\n",
       "    </tr>\n",
       "  </thead>\n",
       "  <tbody>\n",
       "    <tr>\n",
       "      <th>count</th>\n",
       "      <td>3.000000</td>\n",
       "      <td>3.000000</td>\n",
       "      <td>3.000000</td>\n",
       "      <td>3.0</td>\n",
       "    </tr>\n",
       "    <tr>\n",
       "      <th>mean</th>\n",
       "      <td>33.666667</td>\n",
       "      <td>190187.986667</td>\n",
       "      <td>2.333333</td>\n",
       "      <td>4.0</td>\n",
       "    </tr>\n",
       "    <tr>\n",
       "      <th>std</th>\n",
       "      <td>28.183920</td>\n",
       "      <td>27558.955334</td>\n",
       "      <td>4.041452</td>\n",
       "      <td>0.0</td>\n",
       "    </tr>\n",
       "    <tr>\n",
       "      <th>min</th>\n",
       "      <td>2.000000</td>\n",
       "      <td>168472.500000</td>\n",
       "      <td>0.000000</td>\n",
       "      <td>4.0</td>\n",
       "    </tr>\n",
       "    <tr>\n",
       "      <th>25%</th>\n",
       "      <td>22.500000</td>\n",
       "      <td>174686.575000</td>\n",
       "      <td>0.000000</td>\n",
       "      <td>4.0</td>\n",
       "    </tr>\n",
       "    <tr>\n",
       "      <th>50%</th>\n",
       "      <td>43.000000</td>\n",
       "      <td>180900.650000</td>\n",
       "      <td>0.000000</td>\n",
       "      <td>4.0</td>\n",
       "    </tr>\n",
       "    <tr>\n",
       "      <th>75%</th>\n",
       "      <td>49.500000</td>\n",
       "      <td>201045.730000</td>\n",
       "      <td>3.500000</td>\n",
       "      <td>4.0</td>\n",
       "    </tr>\n",
       "    <tr>\n",
       "      <th>max</th>\n",
       "      <td>56.000000</td>\n",
       "      <td>221190.810000</td>\n",
       "      <td>7.000000</td>\n",
       "      <td>4.0</td>\n",
       "    </tr>\n",
       "  </tbody>\n",
       "</table></div>"
      ],
      "text/plain": [
       "       Frequency       Monetary   Recency  cluster\n",
       "count   3.000000       3.000000  3.000000      3.0\n",
       "mean   33.666667  190187.986667  2.333333      4.0\n",
       "std    28.183920   27558.955334  4.041452      0.0\n",
       "min     2.000000  168472.500000  0.000000      4.0\n",
       "25%    22.500000  174686.575000  0.000000      4.0\n",
       "50%    43.000000  180900.650000  0.000000      4.0\n",
       "75%    49.500000  201045.730000  3.500000      4.0\n",
       "max    56.000000  221190.810000  7.000000      4.0"
      ]
     },
     "execution_count": 30,
     "metadata": {},
     "output_type": "execute_result"
    }
   ],
   "source": [
    "# evaluate the clusters\n",
    "# What does the smallest group look like ?\n",
    "\n",
    "results[results['cluster'] == 4].describe()"
   ]
  },
  {
   "cell_type": "code",
   "execution_count": 31,
   "id": "341ea469",
   "metadata": {},
   "outputs": [
    {
     "data": {
      "text/html": [
       "<div><div id=15785ccb-da19-436f-9b93-4878b13a19d9 style=\"display:none; background-color:#9D6CFF; color:white; width:200px; height:30px; padding-left:5px; border-radius:4px; flex-direction:row; justify-content:space-around; align-items:center;\" onmouseover=\"this.style.backgroundColor='#BA9BF8'\" onmouseout=\"this.style.backgroundColor='#9D6CFF'\" onclick=\"window.commands?.execute('create-mitosheet-from-dataframe-output');\">See Full Dataframe in Mito</div> <script> if (window.commands?.hasCommand('create-mitosheet-from-dataframe-output')) document.getElementById('15785ccb-da19-436f-9b93-4878b13a19d9').style.display = 'flex' </script> <table border=\"1\" class=\"dataframe\">\n",
       "  <thead>\n",
       "    <tr style=\"text-align: right;\">\n",
       "      <th></th>\n",
       "      <th>Frequency</th>\n",
       "      <th>Monetary</th>\n",
       "      <th>Recency</th>\n",
       "      <th>cluster</th>\n",
       "    </tr>\n",
       "  </thead>\n",
       "  <tbody>\n",
       "    <tr>\n",
       "      <th>count</th>\n",
       "      <td>2639.000000</td>\n",
       "      <td>2639.000000</td>\n",
       "      <td>2639.000000</td>\n",
       "      <td>2639.0</td>\n",
       "    </tr>\n",
       "    <tr>\n",
       "      <th>mean</th>\n",
       "      <td>3.319439</td>\n",
       "      <td>999.524715</td>\n",
       "      <td>43.491474</td>\n",
       "      <td>0.0</td>\n",
       "    </tr>\n",
       "    <tr>\n",
       "      <th>std</th>\n",
       "      <td>2.335710</td>\n",
       "      <td>1048.535651</td>\n",
       "      <td>35.909084</td>\n",
       "      <td>0.0</td>\n",
       "    </tr>\n",
       "    <tr>\n",
       "      <th>min</th>\n",
       "      <td>1.000000</td>\n",
       "      <td>0.000000</td>\n",
       "      <td>0.000000</td>\n",
       "      <td>0.0</td>\n",
       "    </tr>\n",
       "    <tr>\n",
       "      <th>25%</th>\n",
       "      <td>1.000000</td>\n",
       "      <td>301.960000</td>\n",
       "      <td>15.000000</td>\n",
       "      <td>0.0</td>\n",
       "    </tr>\n",
       "    <tr>\n",
       "      <th>50%</th>\n",
       "      <td>3.000000</td>\n",
       "      <td>655.750000</td>\n",
       "      <td>32.000000</td>\n",
       "      <td>0.0</td>\n",
       "    </tr>\n",
       "    <tr>\n",
       "      <th>75%</th>\n",
       "      <td>5.000000</td>\n",
       "      <td>1356.175000</td>\n",
       "      <td>65.000000</td>\n",
       "      <td>0.0</td>\n",
       "    </tr>\n",
       "    <tr>\n",
       "      <th>max</th>\n",
       "      <td>11.000000</td>\n",
       "      <td>10534.930000</td>\n",
       "      <td>155.000000</td>\n",
       "      <td>0.0</td>\n",
       "    </tr>\n",
       "  </tbody>\n",
       "</table></div>"
      ],
      "text/plain": [
       "         Frequency      Monetary      Recency  cluster\n",
       "count  2639.000000   2639.000000  2639.000000   2639.0\n",
       "mean      3.319439    999.524715    43.491474      0.0\n",
       "std       2.335710   1048.535651    35.909084      0.0\n",
       "min       1.000000      0.000000     0.000000      0.0\n",
       "25%       1.000000    301.960000    15.000000      0.0\n",
       "50%       3.000000    655.750000    32.000000      0.0\n",
       "75%       5.000000   1356.175000    65.000000      0.0\n",
       "max      11.000000  10534.930000   155.000000      0.0"
      ]
     },
     "execution_count": 31,
     "metadata": {},
     "output_type": "execute_result"
    }
   ],
   "source": [
    "# evaluate the clusters\n",
    "# What does the largest group look like ?\n",
    "\n",
    "results[results['cluster'] == 0].describe()\n",
    "\n",
    "# on average spend 1k, and 3 purchases"
   ]
  },
  {
   "cell_type": "code",
   "execution_count": 33,
   "id": "aa9d4967",
   "metadata": {},
   "outputs": [
    {
     "data": {
      "text/html": [
       "<div><div id=538ecfe9-3018-4d34-9481-10bb31b77976 style=\"display:none; background-color:#9D6CFF; color:white; width:200px; height:30px; padding-left:5px; border-radius:4px; flex-direction:row; justify-content:space-around; align-items:center;\" onmouseover=\"this.style.backgroundColor='#BA9BF8'\" onmouseout=\"this.style.backgroundColor='#9D6CFF'\" onclick=\"window.commands?.execute('create-mitosheet-from-dataframe-output');\">See Full Dataframe in Mito</div> <script> if (window.commands?.hasCommand('create-mitosheet-from-dataframe-output')) document.getElementById('538ecfe9-3018-4d34-9481-10bb31b77976').style.display = 'flex' </script> <table border=\"1\" class=\"dataframe\">\n",
       "  <thead>\n",
       "    <tr style=\"text-align: right;\">\n",
       "      <th></th>\n",
       "      <th>Frequency</th>\n",
       "      <th>Monetary</th>\n",
       "      <th>Recency</th>\n",
       "      <th>cluster</th>\n",
       "    </tr>\n",
       "  </thead>\n",
       "  <tbody>\n",
       "    <tr>\n",
       "      <th>count</th>\n",
       "      <td>276.000000</td>\n",
       "      <td>276.000000</td>\n",
       "      <td>276.000000</td>\n",
       "      <td>276.0</td>\n",
       "    </tr>\n",
       "    <tr>\n",
       "      <th>mean</th>\n",
       "      <td>17.231884</td>\n",
       "      <td>6889.830254</td>\n",
       "      <td>14.463768</td>\n",
       "      <td>3.0</td>\n",
       "    </tr>\n",
       "    <tr>\n",
       "      <th>std</th>\n",
       "      <td>7.197262</td>\n",
       "      <td>6356.581079</td>\n",
       "      <td>31.350606</td>\n",
       "      <td>0.0</td>\n",
       "    </tr>\n",
       "    <tr>\n",
       "      <th>min</th>\n",
       "      <td>3.000000</td>\n",
       "      <td>856.980000</td>\n",
       "      <td>0.000000</td>\n",
       "      <td>3.0</td>\n",
       "    </tr>\n",
       "    <tr>\n",
       "      <th>25%</th>\n",
       "      <td>12.000000</td>\n",
       "      <td>3564.135000</td>\n",
       "      <td>2.000000</td>\n",
       "      <td>3.0</td>\n",
       "    </tr>\n",
       "    <tr>\n",
       "      <th>50%</th>\n",
       "      <td>15.000000</td>\n",
       "      <td>4992.885000</td>\n",
       "      <td>7.000000</td>\n",
       "      <td>3.0</td>\n",
       "    </tr>\n",
       "    <tr>\n",
       "      <th>75%</th>\n",
       "      <td>20.000000</td>\n",
       "      <td>7499.095000</td>\n",
       "      <td>16.000000</td>\n",
       "      <td>3.0</td>\n",
       "    </tr>\n",
       "    <tr>\n",
       "      <th>max</th>\n",
       "      <td>54.000000</td>\n",
       "      <td>44534.300000</td>\n",
       "      <td>371.000000</td>\n",
       "      <td>3.0</td>\n",
       "    </tr>\n",
       "  </tbody>\n",
       "</table></div>"
      ],
      "text/plain": [
       "        Frequency      Monetary     Recency  cluster\n",
       "count  276.000000    276.000000  276.000000    276.0\n",
       "mean    17.231884   6889.830254   14.463768      3.0\n",
       "std      7.197262   6356.581079   31.350606      0.0\n",
       "min      3.000000    856.980000    0.000000      3.0\n",
       "25%     12.000000   3564.135000    2.000000      3.0\n",
       "50%     15.000000   4992.885000    7.000000      3.0\n",
       "75%     20.000000   7499.095000   16.000000      3.0\n",
       "max     54.000000  44534.300000  371.000000      3.0"
      ]
     },
     "execution_count": 33,
     "metadata": {},
     "output_type": "execute_result"
    }
   ],
   "source": [
    "# evaluate the clusters\n",
    "# What does other groups look like ?\n",
    "\n",
    "results[results['cluster'] == 3].describe()"
   ]
  },
  {
   "cell_type": "code",
   "execution_count": null,
   "id": "8b3b34a4",
   "metadata": {},
   "outputs": [],
   "source": []
  }
 ],
 "metadata": {
  "kernelspec": {
   "display_name": "Python 3 (ipykernel)",
   "language": "python",
   "name": "python3"
  },
  "language_info": {
   "codemirror_mode": {
    "name": "ipython",
    "version": 3
   },
   "file_extension": ".py",
   "mimetype": "text/x-python",
   "name": "python",
   "nbconvert_exporter": "python",
   "pygments_lexer": "ipython3",
   "version": "3.9.7"
  }
 },
 "nbformat": 4,
 "nbformat_minor": 5
}
