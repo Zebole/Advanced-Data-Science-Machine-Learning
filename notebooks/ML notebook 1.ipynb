{
 "cells": [
  {
   "cell_type": "code",
   "execution_count": 1,
   "id": "1cc9ccf9",
   "metadata": {},
   "outputs": [],
   "source": [
    "import pandas as pd\n",
    "import numpy as np\n",
    "import seaborn as sns\n",
    "import matplotlib.pyplot as plt"
   ]
  },
  {
   "cell_type": "code",
   "execution_count": 23,
   "id": "1057e73e",
   "metadata": {},
   "outputs": [],
   "source": [
    "list_1 = ['apple', \"banana\", 'pear', \"apple\"]\n"
   ]
  },
  {
   "cell_type": "code",
   "execution_count": 24,
   "id": "51cc892e",
   "metadata": {},
   "outputs": [
    {
     "data": {
      "text/plain": [
       "2"
      ]
     },
     "execution_count": 24,
     "metadata": {},
     "output_type": "execute_result"
    }
   ],
   "source": [
    "list_1.count(\"apple\")"
   ]
  },
  {
   "cell_type": "code",
   "execution_count": 25,
   "id": "f613c503",
   "metadata": {},
   "outputs": [
    {
     "data": {
      "text/plain": [
       "'apple'"
      ]
     },
     "execution_count": 25,
     "metadata": {},
     "output_type": "execute_result"
    }
   ],
   "source": [
    "list_1[0]\n"
   ]
  },
  {
   "cell_type": "code",
   "execution_count": 26,
   "id": "c1e5c276",
   "metadata": {},
   "outputs": [
    {
     "data": {
      "text/plain": [
       "'banana'"
      ]
     },
     "execution_count": 26,
     "metadata": {},
     "output_type": "execute_result"
    }
   ],
   "source": [
    "list_1[1]\n"
   ]
  },
  {
   "cell_type": "code",
   "execution_count": 27,
   "id": "300e17c1",
   "metadata": {},
   "outputs": [
    {
     "data": {
      "text/plain": [
       "'apple'"
      ]
     },
     "execution_count": 27,
     "metadata": {},
     "output_type": "execute_result"
    }
   ],
   "source": [
    "list_1[3]"
   ]
  },
  {
   "cell_type": "code",
   "execution_count": 28,
   "id": "89846065",
   "metadata": {},
   "outputs": [
    {
     "data": {
      "text/plain": [
       "['banana', 'pear']"
      ]
     },
     "execution_count": 28,
     "metadata": {},
     "output_type": "execute_result"
    }
   ],
   "source": [
    "list_1[1:3]"
   ]
  },
  {
   "cell_type": "code",
   "execution_count": 29,
   "id": "18a52af2",
   "metadata": {},
   "outputs": [
    {
     "data": {
      "text/plain": [
       "'apple'"
      ]
     },
     "execution_count": 29,
     "metadata": {},
     "output_type": "execute_result"
    }
   ],
   "source": [
    "list_1[-1]"
   ]
  },
  {
   "cell_type": "code",
   "execution_count": 30,
   "id": "af742a1a",
   "metadata": {},
   "outputs": [
    {
     "data": {
      "text/plain": [
       "['banana', 'pear', 'apple']"
      ]
     },
     "execution_count": 30,
     "metadata": {},
     "output_type": "execute_result"
    }
   ],
   "source": [
    "list_1[-3:]"
   ]
  },
  {
   "cell_type": "code",
   "execution_count": 31,
   "id": "f168cd71",
   "metadata": {},
   "outputs": [
    {
     "data": {
      "text/plain": [
       "['apple', 'pear', 'banana', 'apple']"
      ]
     },
     "execution_count": 31,
     "metadata": {},
     "output_type": "execute_result"
    }
   ],
   "source": [
    "list_1[::-1]"
   ]
  },
  {
   "cell_type": "code",
   "execution_count": 32,
   "id": "d1c8b8bf",
   "metadata": {},
   "outputs": [],
   "source": [
    "list_1.append('grapes')"
   ]
  },
  {
   "cell_type": "code",
   "execution_count": 33,
   "id": "5248d38d",
   "metadata": {},
   "outputs": [
    {
     "data": {
      "text/plain": [
       "['apple', 'banana', 'pear', 'apple', 'grapes']"
      ]
     },
     "execution_count": 33,
     "metadata": {},
     "output_type": "execute_result"
    }
   ],
   "source": [
    "list_1"
   ]
  },
  {
   "cell_type": "code",
   "execution_count": 34,
   "id": "e74a1e9f",
   "metadata": {},
   "outputs": [],
   "source": [
    "list_1.insert(2, 'strawberries')"
   ]
  },
  {
   "cell_type": "code",
   "execution_count": 35,
   "id": "651cf882",
   "metadata": {},
   "outputs": [
    {
     "data": {
      "text/plain": [
       "['apple', 'banana', 'strawberries', 'pear', 'apple', 'grapes']"
      ]
     },
     "execution_count": 35,
     "metadata": {},
     "output_type": "execute_result"
    }
   ],
   "source": [
    "list_1"
   ]
  },
  {
   "cell_type": "code",
   "execution_count": 36,
   "id": "ad6404ed",
   "metadata": {},
   "outputs": [],
   "source": [
    "more_list = ['Kiwi', 'apple']"
   ]
  },
  {
   "cell_type": "code",
   "execution_count": 37,
   "id": "0663e0b3",
   "metadata": {},
   "outputs": [],
   "source": [
    "list_1.append(more_list)"
   ]
  },
  {
   "cell_type": "markdown",
   "id": "d9479f9c",
   "metadata": {},
   "source": [
    "## Append a list\n",
    "- This becomes a Nested list"
   ]
  },
  {
   "cell_type": "code",
   "execution_count": 38,
   "id": "c4d472eb",
   "metadata": {},
   "outputs": [
    {
     "data": {
      "text/plain": [
       "['apple',\n",
       " 'banana',\n",
       " 'strawberries',\n",
       " 'pear',\n",
       " 'apple',\n",
       " 'grapes',\n",
       " ['Kiwi', 'apple']]"
      ]
     },
     "execution_count": 38,
     "metadata": {},
     "output_type": "execute_result"
    }
   ],
   "source": [
    "list_1"
   ]
  },
  {
   "cell_type": "code",
   "execution_count": 39,
   "id": "435606e0",
   "metadata": {},
   "outputs": [
    {
     "data": {
      "text/plain": [
       "2"
      ]
     },
     "execution_count": 39,
     "metadata": {},
     "output_type": "execute_result"
    }
   ],
   "source": [
    "list_1.count('apple')"
   ]
  },
  {
   "cell_type": "code",
   "execution_count": 41,
   "id": "fba42289",
   "metadata": {},
   "outputs": [],
   "source": [
    "list_1.extend(more_list)"
   ]
  },
  {
   "cell_type": "markdown",
   "id": "978728ea",
   "metadata": {},
   "source": [
    "## Extend a list\n",
    "- The list stays the same"
   ]
  },
  {
   "cell_type": "code",
   "execution_count": 43,
   "id": "d5d06627",
   "metadata": {},
   "outputs": [
    {
     "data": {
      "text/plain": [
       "['apple',\n",
       " 'banana',\n",
       " 'strawberries',\n",
       " 'pear',\n",
       " 'apple',\n",
       " 'grapes',\n",
       " ['Kiwi', 'apple'],\n",
       " 'Kiwi',\n",
       " 'apple']"
      ]
     },
     "execution_count": 43,
     "metadata": {},
     "output_type": "execute_result"
    }
   ],
   "source": [
    "list_1"
   ]
  },
  {
   "cell_type": "code",
   "execution_count": 42,
   "id": "49ce26d3",
   "metadata": {},
   "outputs": [
    {
     "data": {
      "text/plain": [
       "3"
      ]
     },
     "execution_count": 42,
     "metadata": {},
     "output_type": "execute_result"
    }
   ],
   "source": [
    "list_1.count('apple')"
   ]
  },
  {
   "cell_type": "code",
   "execution_count": 44,
   "id": "29a1ee69",
   "metadata": {},
   "outputs": [
    {
     "data": {
      "text/plain": [
       "9"
      ]
     },
     "execution_count": 44,
     "metadata": {},
     "output_type": "execute_result"
    }
   ],
   "source": [
    "len(list_1)"
   ]
  },
  {
   "cell_type": "code",
   "execution_count": null,
   "id": "30c450de",
   "metadata": {},
   "outputs": [],
   "source": []
  },
  {
   "cell_type": "markdown",
   "id": "cfbcbc3a",
   "metadata": {},
   "source": [
    "## Remove element from list\n"
   ]
  },
  {
   "cell_type": "code",
   "execution_count": 45,
   "id": "812def93",
   "metadata": {},
   "outputs": [],
   "source": [
    "list_1.remove(['Kiwi', 'apple'])"
   ]
  },
  {
   "cell_type": "code",
   "execution_count": 46,
   "id": "b7d241f9",
   "metadata": {},
   "outputs": [
    {
     "data": {
      "text/plain": [
       "['apple', 'banana', 'strawberries', 'pear', 'apple', 'grapes', 'Kiwi', 'apple']"
      ]
     },
     "execution_count": 46,
     "metadata": {},
     "output_type": "execute_result"
    }
   ],
   "source": [
    "list_1"
   ]
  },
  {
   "cell_type": "markdown",
   "id": "145204a0",
   "metadata": {},
   "source": [
    "## Clear list\n"
   ]
  },
  {
   "cell_type": "code",
   "execution_count": 47,
   "id": "75a22ce6",
   "metadata": {},
   "outputs": [],
   "source": [
    "list_1.clear()"
   ]
  },
  {
   "cell_type": "code",
   "execution_count": 48,
   "id": "3e633558",
   "metadata": {},
   "outputs": [
    {
     "data": {
      "text/plain": [
       "[]"
      ]
     },
     "execution_count": 48,
     "metadata": {},
     "output_type": "execute_result"
    }
   ],
   "source": [
    "list_1"
   ]
  },
  {
   "cell_type": "markdown",
   "id": "2b404df5",
   "metadata": {},
   "source": [
    "## Creating lists of different data types"
   ]
  },
  {
   "cell_type": "code",
   "execution_count": 49,
   "id": "2a2b5093",
   "metadata": {},
   "outputs": [],
   "source": [
    "numbers = [1, 2, 3, 5, 7]"
   ]
  },
  {
   "cell_type": "code",
   "execution_count": 50,
   "id": "cc172111",
   "metadata": {},
   "outputs": [],
   "source": [
    "bool_list = [True, False, False]"
   ]
  },
  {
   "cell_type": "code",
   "execution_count": 51,
   "id": "59b59060",
   "metadata": {},
   "outputs": [],
   "source": [
    "numbers.extend(bool_list)"
   ]
  },
  {
   "cell_type": "code",
   "execution_count": 52,
   "id": "3ec9e309",
   "metadata": {},
   "outputs": [
    {
     "data": {
      "text/plain": [
       "[1, 2, 3, 5, 7, True, False, False]"
      ]
     },
     "execution_count": 52,
     "metadata": {},
     "output_type": "execute_result"
    }
   ],
   "source": [
    "numbers"
   ]
  },
  {
   "cell_type": "markdown",
   "id": "f74c4e15",
   "metadata": {},
   "source": [
    "## The list() constructor"
   ]
  },
  {
   "cell_type": "code",
   "execution_count": 64,
   "id": "4d083d44",
   "metadata": {},
   "outputs": [],
   "source": [
    "fruit = list([\"apple\", \"banana\", 'cherry'])"
   ]
  },
  {
   "cell_type": "code",
   "execution_count": 65,
   "id": "9ffb2b45",
   "metadata": {},
   "outputs": [
    {
     "data": {
      "text/plain": [
       "['apple', 'banana', 'cherry']"
      ]
     },
     "execution_count": 65,
     "metadata": {},
     "output_type": "execute_result"
    }
   ],
   "source": [
    "fruit"
   ]
  },
  {
   "cell_type": "code",
   "execution_count": 66,
   "id": "fe4785f4",
   "metadata": {},
   "outputs": [
    {
     "name": "stdout",
     "output_type": "stream",
     "text": [
      "<class 'list'>\n"
     ]
    }
   ],
   "source": [
    "print(type(fruit))"
   ]
  },
  {
   "cell_type": "markdown",
   "id": "ce3daa9b",
   "metadata": {},
   "source": [
    "## Change the item value in the list"
   ]
  },
  {
   "cell_type": "code",
   "execution_count": 67,
   "id": "843cd186",
   "metadata": {},
   "outputs": [],
   "source": [
    "fruit[1] = \"blackberries\""
   ]
  },
  {
   "cell_type": "code",
   "execution_count": 68,
   "id": "de1e9055",
   "metadata": {},
   "outputs": [
    {
     "data": {
      "text/plain": [
       "['apple', 'blackberries', 'cherry']"
      ]
     },
     "execution_count": 68,
     "metadata": {},
     "output_type": "execute_result"
    }
   ],
   "source": [
    "fruit"
   ]
  },
  {
   "cell_type": "markdown",
   "id": "3ad39224",
   "metadata": {},
   "source": [
    "## Multiply every item in a list"
   ]
  },
  {
   "cell_type": "code",
   "execution_count": 69,
   "id": "1b3da988",
   "metadata": {},
   "outputs": [],
   "source": [
    "my_list = [1, 2, 3, 4, 5]"
   ]
  },
  {
   "cell_type": "code",
   "execution_count": 70,
   "id": "fcedfbf9",
   "metadata": {},
   "outputs": [
    {
     "data": {
      "text/plain": [
       "[10, 20, 30, 40, 50]"
      ]
     },
     "execution_count": 70,
     "metadata": {},
     "output_type": "execute_result"
    }
   ],
   "source": [
    "[10 * i for i in my_list]"
   ]
  },
  {
   "cell_type": "markdown",
   "id": "73697352",
   "metadata": {},
   "source": [
    "#### Save output to new list"
   ]
  },
  {
   "cell_type": "code",
   "execution_count": 72,
   "id": "1b30f586",
   "metadata": {},
   "outputs": [],
   "source": [
    "new_list = [5 * i for i in my_list]"
   ]
  },
  {
   "cell_type": "code",
   "execution_count": 73,
   "id": "1f3d44a7",
   "metadata": {},
   "outputs": [
    {
     "data": {
      "text/plain": [
       "[5, 10, 15, 20, 25]"
      ]
     },
     "execution_count": 73,
     "metadata": {},
     "output_type": "execute_result"
    }
   ],
   "source": [
    "new_list"
   ]
  },
  {
   "cell_type": "markdown",
   "id": "0c03dff3",
   "metadata": {},
   "source": [
    "## Merge 2 lists to make dictionary"
   ]
  },
  {
   "cell_type": "code",
   "execution_count": 75,
   "id": "7875a5eb",
   "metadata": {},
   "outputs": [],
   "source": [
    "items = ['footballs', 'bats', 'gloves']"
   ]
  },
  {
   "cell_type": "code",
   "execution_count": 76,
   "id": "a5346e08",
   "metadata": {},
   "outputs": [],
   "source": [
    "price = [100, 40, 80]"
   ]
  },
  {
   "cell_type": "markdown",
   "id": "9f336677",
   "metadata": {},
   "source": [
    "#### Use the zip() fucntion"
   ]
  },
  {
   "cell_type": "code",
   "execution_count": 77,
   "id": "7ca352e2",
   "metadata": {},
   "outputs": [],
   "source": [
    "items_w_price_dict = dict(zip(items, price))"
   ]
  },
  {
   "cell_type": "code",
   "execution_count": 78,
   "id": "15f995e6",
   "metadata": {},
   "outputs": [
    {
     "data": {
      "text/plain": [
       "{'footballs': 100, 'bats': 40, 'gloves': 80}"
      ]
     },
     "execution_count": 78,
     "metadata": {},
     "output_type": "execute_result"
    }
   ],
   "source": [
    "items_w_price_dict"
   ]
  },
  {
   "cell_type": "code",
   "execution_count": null,
   "id": "edf78ab7",
   "metadata": {},
   "outputs": [],
   "source": []
  }
 ],
 "metadata": {
  "kernelspec": {
   "display_name": "Python 3 (ipykernel)",
   "language": "python",
   "name": "python3"
  },
  "language_info": {
   "codemirror_mode": {
    "name": "ipython",
    "version": 3
   },
   "file_extension": ".py",
   "mimetype": "text/x-python",
   "name": "python",
   "nbconvert_exporter": "python",
   "pygments_lexer": "ipython3",
   "version": "3.9.7"
  }
 },
 "nbformat": 4,
 "nbformat_minor": 5
}
