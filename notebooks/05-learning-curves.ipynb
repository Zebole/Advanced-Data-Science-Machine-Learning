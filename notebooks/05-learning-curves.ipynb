{
 "cells": [
  {
   "cell_type": "code",
   "execution_count": 1,
   "id": "890bfa29",
   "metadata": {},
   "outputs": [],
   "source": [
    "import pandas as pd\n",
    "import numpy as np\n",
    "import seaborn as sns\n",
    "import matplotlib.pyplot as plt"
   ]
  },
  {
   "cell_type": "code",
   "execution_count": 2,
   "id": "e35fb29d",
   "metadata": {},
   "outputs": [],
   "source": [
    "# code so we can import functions from src folder\n",
    "\n",
    "import os\n",
    "import sys\n",
    "\n",
    "# import python scripts we created to help with feature engineering\n",
    "module_path = os.path.abspath(os.path.join('..'))\n",
    "if module_path not in sys.path:\n",
    "    sys.path.append(module_path)\n",
    "\n",
    "from src.learning_curve_plot import learning_curve_plot\n",
    "from src.helpers import feature_importance_plot"
   ]
  },
  {
   "cell_type": "code",
   "execution_count": 3,
   "id": "48f7a329",
   "metadata": {},
   "outputs": [],
   "source": [
    "# import scikit learn libraries\n",
    "from sklearn.model_selection import train_test_split\n",
    "from sklearn.tree import DecisionTreeRegressor\n",
    "from sklearn.ensemble import RandomForestRegressor\n",
    "from xgboost import XGBRegressor\n",
    "from sklearn.metrics import r2_score, mean_absolute_error, mean_squared_error"
   ]
  },
  {
   "cell_type": "code",
   "execution_count": 4,
   "id": "d4667382",
   "metadata": {},
   "outputs": [
    {
     "data": {
      "text/html": [
       "<div><div id=4e04d8cf-2df8-4f3c-80fe-7e76647cdc51 style=\"display:none; background-color:#9D6CFF; color:white; width:200px; height:30px; padding-left:5px; border-radius:4px; flex-direction:row; justify-content:space-around; align-items:center;\" onmouseover=\"this.style.backgroundColor='#BA9BF8'\" onmouseout=\"this.style.backgroundColor='#9D6CFF'\" onclick=\"window.commands?.execute('create-mitosheet-from-dataframe-output');\">See Full Dataframe in Mito</div> <script> if (window.commands?.hasCommand('create-mitosheet-from-dataframe-output')) document.getElementById('4e04d8cf-2df8-4f3c-80fe-7e76647cdc51').style.display = 'flex' </script> <table border=\"1\" class=\"dataframe\">\n",
       "  <thead>\n",
       "    <tr style=\"text-align: right;\">\n",
       "      <th></th>\n",
       "      <th>number_transactions</th>\n",
       "      <th>total_amount_usd</th>\n",
       "      <th>age</th>\n",
       "      <th>default</th>\n",
       "      <th>housing</th>\n",
       "      <th>loan</th>\n",
       "      <th>duration</th>\n",
       "      <th>campaign</th>\n",
       "      <th>pdays</th>\n",
       "      <th>previous</th>\n",
       "      <th>...</th>\n",
       "      <th>education_primary</th>\n",
       "      <th>education_secondary</th>\n",
       "      <th>education_tertiary</th>\n",
       "      <th>contact_cellular</th>\n",
       "      <th>contact_not contacted</th>\n",
       "      <th>contact_telephone</th>\n",
       "      <th>device_Unknown</th>\n",
       "      <th>device_desktop</th>\n",
       "      <th>device_mobile</th>\n",
       "      <th>device_tablet</th>\n",
       "    </tr>\n",
       "  </thead>\n",
       "  <tbody>\n",
       "    <tr>\n",
       "      <th>0</th>\n",
       "      <td>3.000000</td>\n",
       "      <td>2143.000000</td>\n",
       "      <td>58</td>\n",
       "      <td>False</td>\n",
       "      <td>True</td>\n",
       "      <td>False</td>\n",
       "      <td>261</td>\n",
       "      <td>1</td>\n",
       "      <td>-1</td>\n",
       "      <td>0</td>\n",
       "      <td>...</td>\n",
       "      <td>0</td>\n",
       "      <td>0</td>\n",
       "      <td>1</td>\n",
       "      <td>0</td>\n",
       "      <td>1</td>\n",
       "      <td>0</td>\n",
       "      <td>0</td>\n",
       "      <td>0</td>\n",
       "      <td>1</td>\n",
       "      <td>0</td>\n",
       "    </tr>\n",
       "    <tr>\n",
       "      <th>1</th>\n",
       "      <td>3.977407</td>\n",
       "      <td>1369.845345</td>\n",
       "      <td>44</td>\n",
       "      <td>False</td>\n",
       "      <td>True</td>\n",
       "      <td>False</td>\n",
       "      <td>151</td>\n",
       "      <td>1</td>\n",
       "      <td>-1</td>\n",
       "      <td>0</td>\n",
       "      <td>...</td>\n",
       "      <td>0</td>\n",
       "      <td>1</td>\n",
       "      <td>0</td>\n",
       "      <td>0</td>\n",
       "      <td>1</td>\n",
       "      <td>0</td>\n",
       "      <td>0</td>\n",
       "      <td>1</td>\n",
       "      <td>0</td>\n",
       "      <td>0</td>\n",
       "    </tr>\n",
       "    <tr>\n",
       "      <th>2</th>\n",
       "      <td>2.000000</td>\n",
       "      <td>2.000000</td>\n",
       "      <td>33</td>\n",
       "      <td>False</td>\n",
       "      <td>True</td>\n",
       "      <td>True</td>\n",
       "      <td>76</td>\n",
       "      <td>1</td>\n",
       "      <td>-1</td>\n",
       "      <td>0</td>\n",
       "      <td>...</td>\n",
       "      <td>0</td>\n",
       "      <td>1</td>\n",
       "      <td>0</td>\n",
       "      <td>0</td>\n",
       "      <td>1</td>\n",
       "      <td>0</td>\n",
       "      <td>0</td>\n",
       "      <td>0</td>\n",
       "      <td>1</td>\n",
       "      <td>0</td>\n",
       "    </tr>\n",
       "    <tr>\n",
       "      <th>3</th>\n",
       "      <td>3.977407</td>\n",
       "      <td>1369.845345</td>\n",
       "      <td>47</td>\n",
       "      <td>False</td>\n",
       "      <td>True</td>\n",
       "      <td>False</td>\n",
       "      <td>92</td>\n",
       "      <td>1</td>\n",
       "      <td>-1</td>\n",
       "      <td>0</td>\n",
       "      <td>...</td>\n",
       "      <td>0</td>\n",
       "      <td>0</td>\n",
       "      <td>0</td>\n",
       "      <td>0</td>\n",
       "      <td>1</td>\n",
       "      <td>0</td>\n",
       "      <td>0</td>\n",
       "      <td>0</td>\n",
       "      <td>0</td>\n",
       "      <td>1</td>\n",
       "    </tr>\n",
       "    <tr>\n",
       "      <th>4</th>\n",
       "      <td>1.000000</td>\n",
       "      <td>1.000000</td>\n",
       "      <td>33</td>\n",
       "      <td>False</td>\n",
       "      <td>False</td>\n",
       "      <td>False</td>\n",
       "      <td>198</td>\n",
       "      <td>1</td>\n",
       "      <td>-1</td>\n",
       "      <td>0</td>\n",
       "      <td>...</td>\n",
       "      <td>0</td>\n",
       "      <td>0</td>\n",
       "      <td>0</td>\n",
       "      <td>0</td>\n",
       "      <td>1</td>\n",
       "      <td>0</td>\n",
       "      <td>0</td>\n",
       "      <td>0</td>\n",
       "      <td>1</td>\n",
       "      <td>0</td>\n",
       "    </tr>\n",
       "    <tr>\n",
       "      <th>5</th>\n",
       "      <td>2.000000</td>\n",
       "      <td>231.000000</td>\n",
       "      <td>35</td>\n",
       "      <td>False</td>\n",
       "      <td>True</td>\n",
       "      <td>False</td>\n",
       "      <td>139</td>\n",
       "      <td>1</td>\n",
       "      <td>-1</td>\n",
       "      <td>0</td>\n",
       "      <td>...</td>\n",
       "      <td>0</td>\n",
       "      <td>0</td>\n",
       "      <td>1</td>\n",
       "      <td>0</td>\n",
       "      <td>1</td>\n",
       "      <td>0</td>\n",
       "      <td>0</td>\n",
       "      <td>1</td>\n",
       "      <td>0</td>\n",
       "      <td>0</td>\n",
       "    </tr>\n",
       "    <tr>\n",
       "      <th>6</th>\n",
       "      <td>2.000000</td>\n",
       "      <td>447.000000</td>\n",
       "      <td>28</td>\n",
       "      <td>False</td>\n",
       "      <td>True</td>\n",
       "      <td>True</td>\n",
       "      <td>217</td>\n",
       "      <td>1</td>\n",
       "      <td>-1</td>\n",
       "      <td>0</td>\n",
       "      <td>...</td>\n",
       "      <td>0</td>\n",
       "      <td>0</td>\n",
       "      <td>1</td>\n",
       "      <td>0</td>\n",
       "      <td>1</td>\n",
       "      <td>0</td>\n",
       "      <td>0</td>\n",
       "      <td>0</td>\n",
       "      <td>1</td>\n",
       "      <td>0</td>\n",
       "    </tr>\n",
       "    <tr>\n",
       "      <th>7</th>\n",
       "      <td>1.000000</td>\n",
       "      <td>2.000000</td>\n",
       "      <td>42</td>\n",
       "      <td>True</td>\n",
       "      <td>True</td>\n",
       "      <td>False</td>\n",
       "      <td>380</td>\n",
       "      <td>1</td>\n",
       "      <td>-1</td>\n",
       "      <td>0</td>\n",
       "      <td>...</td>\n",
       "      <td>0</td>\n",
       "      <td>0</td>\n",
       "      <td>1</td>\n",
       "      <td>0</td>\n",
       "      <td>1</td>\n",
       "      <td>0</td>\n",
       "      <td>0</td>\n",
       "      <td>0</td>\n",
       "      <td>1</td>\n",
       "      <td>0</td>\n",
       "    </tr>\n",
       "    <tr>\n",
       "      <th>8</th>\n",
       "      <td>3.977407</td>\n",
       "      <td>1369.845345</td>\n",
       "      <td>58</td>\n",
       "      <td>False</td>\n",
       "      <td>True</td>\n",
       "      <td>False</td>\n",
       "      <td>50</td>\n",
       "      <td>1</td>\n",
       "      <td>-1</td>\n",
       "      <td>0</td>\n",
       "      <td>...</td>\n",
       "      <td>1</td>\n",
       "      <td>0</td>\n",
       "      <td>0</td>\n",
       "      <td>0</td>\n",
       "      <td>1</td>\n",
       "      <td>0</td>\n",
       "      <td>0</td>\n",
       "      <td>1</td>\n",
       "      <td>0</td>\n",
       "      <td>0</td>\n",
       "    </tr>\n",
       "    <tr>\n",
       "      <th>9</th>\n",
       "      <td>2.000000</td>\n",
       "      <td>593.000000</td>\n",
       "      <td>43</td>\n",
       "      <td>False</td>\n",
       "      <td>True</td>\n",
       "      <td>False</td>\n",
       "      <td>55</td>\n",
       "      <td>1</td>\n",
       "      <td>-1</td>\n",
       "      <td>0</td>\n",
       "      <td>...</td>\n",
       "      <td>0</td>\n",
       "      <td>1</td>\n",
       "      <td>0</td>\n",
       "      <td>0</td>\n",
       "      <td>1</td>\n",
       "      <td>0</td>\n",
       "      <td>0</td>\n",
       "      <td>0</td>\n",
       "      <td>1</td>\n",
       "      <td>0</td>\n",
       "    </tr>\n",
       "  </tbody>\n",
       "</table></div>"
      ],
      "text/plain": [
       "   number_transactions  total_amount_usd  age  default  housing   loan  \\\n",
       "0             3.000000       2143.000000   58    False     True  False   \n",
       "1             3.977407       1369.845345   44    False     True  False   \n",
       "2             2.000000          2.000000   33    False     True   True   \n",
       "3             3.977407       1369.845345   47    False     True  False   \n",
       "4             1.000000          1.000000   33    False    False  False   \n",
       "5             2.000000        231.000000   35    False     True  False   \n",
       "6             2.000000        447.000000   28    False     True   True   \n",
       "7             1.000000          2.000000   42     True     True  False   \n",
       "8             3.977407       1369.845345   58    False     True  False   \n",
       "9             2.000000        593.000000   43    False     True  False   \n",
       "\n",
       "   duration  campaign  pdays  previous  ...  education_primary  \\\n",
       "0       261         1     -1         0  ...                  0   \n",
       "1       151         1     -1         0  ...                  0   \n",
       "2        76         1     -1         0  ...                  0   \n",
       "3        92         1     -1         0  ...                  0   \n",
       "4       198         1     -1         0  ...                  0   \n",
       "5       139         1     -1         0  ...                  0   \n",
       "6       217         1     -1         0  ...                  0   \n",
       "7       380         1     -1         0  ...                  0   \n",
       "8        50         1     -1         0  ...                  1   \n",
       "9        55         1     -1         0  ...                  0   \n",
       "\n",
       "   education_secondary  education_tertiary  contact_cellular  \\\n",
       "0                    0                   1                 0   \n",
       "1                    1                   0                 0   \n",
       "2                    1                   0                 0   \n",
       "3                    0                   0                 0   \n",
       "4                    0                   0                 0   \n",
       "5                    0                   1                 0   \n",
       "6                    0                   1                 0   \n",
       "7                    0                   1                 0   \n",
       "8                    0                   0                 0   \n",
       "9                    1                   0                 0   \n",
       "\n",
       "   contact_not contacted  contact_telephone  device_Unknown  device_desktop  \\\n",
       "0                      1                  0               0               0   \n",
       "1                      1                  0               0               1   \n",
       "2                      1                  0               0               0   \n",
       "3                      1                  0               0               0   \n",
       "4                      1                  0               0               0   \n",
       "5                      1                  0               0               1   \n",
       "6                      1                  0               0               0   \n",
       "7                      1                  0               0               0   \n",
       "8                      1                  0               0               1   \n",
       "9                      1                  0               0               0   \n",
       "\n",
       "   device_mobile  device_tablet  \n",
       "0              1              0  \n",
       "1              0              0  \n",
       "2              1              0  \n",
       "3              0              1  \n",
       "4              1              0  \n",
       "5              0              0  \n",
       "6              1              0  \n",
       "7              1              0  \n",
       "8              0              0  \n",
       "9              1              0  \n",
       "\n",
       "[10 rows x 37 columns]"
      ]
     },
     "execution_count": 4,
     "metadata": {},
     "output_type": "execute_result"
    }
   ],
   "source": [
    "# load saved pkl from last notebook\n",
    "\n",
    "users_data = pd.read_pickle(\"../data/users_data_cleaned_and_encoded.pkl\")\n",
    "\n",
    "users_data.head(n = 10)"
   ]
  },
  {
   "cell_type": "code",
   "execution_count": 5,
   "id": "19da620d",
   "metadata": {},
   "outputs": [
    {
     "data": {
      "text/plain": [
       "(45179, 37)"
      ]
     },
     "execution_count": 5,
     "metadata": {},
     "output_type": "execute_result"
    }
   ],
   "source": [
    "users_data.shape"
   ]
  },
  {
   "cell_type": "code",
   "execution_count": 6,
   "id": "8a9fe492",
   "metadata": {},
   "outputs": [
    {
     "data": {
      "text/plain": [
       "number_transactions      0\n",
       "total_amount_usd         0\n",
       "age                      0\n",
       "default                  0\n",
       "housing                  0\n",
       "loan                     0\n",
       "duration                 0\n",
       "campaign                 0\n",
       "pdays                    0\n",
       "previous                 0\n",
       "term_deposit             0\n",
       "job_Unknown              0\n",
       "job_admin.               0\n",
       "job_blue-collar          0\n",
       "job_entrepreneur         0\n",
       "job_housemaid            0\n",
       "job_management           0\n",
       "job_retired              0\n",
       "job_self-employed        0\n",
       "job_services             0\n",
       "job_student              0\n",
       "job_technician           0\n",
       "job_unemployed           0\n",
       "marital_divorced         0\n",
       "marital_married          0\n",
       "marital_single           0\n",
       "education_Unknown        0\n",
       "education_primary        0\n",
       "education_secondary      0\n",
       "education_tertiary       0\n",
       "contact_cellular         0\n",
       "contact_not contacted    0\n",
       "contact_telephone        0\n",
       "device_Unknown           0\n",
       "device_desktop           0\n",
       "device_mobile            0\n",
       "device_tablet            0\n",
       "dtype: int64"
      ]
     },
     "execution_count": 6,
     "metadata": {},
     "output_type": "execute_result"
    }
   ],
   "source": [
    "# check that we have no null values\n",
    "\n",
    "users_data.isnull().sum()"
   ]
  },
  {
   "cell_type": "code",
   "execution_count": 7,
   "id": "d344da7e",
   "metadata": {},
   "outputs": [
    {
     "name": "stdout",
     "output_type": "stream",
     "text": [
      "<class 'pandas.core.frame.DataFrame'>\n",
      "Int64Index: 45179 entries, 0 to 45215\n",
      "Data columns (total 37 columns):\n",
      " #   Column                 Non-Null Count  Dtype  \n",
      "---  ------                 --------------  -----  \n",
      " 0   number_transactions    45179 non-null  float64\n",
      " 1   total_amount_usd       45179 non-null  float64\n",
      " 2   age                    45179 non-null  int64  \n",
      " 3   default                45179 non-null  bool   \n",
      " 4   housing                45179 non-null  bool   \n",
      " 5   loan                   45179 non-null  bool   \n",
      " 6   duration               45179 non-null  int64  \n",
      " 7   campaign               45179 non-null  int64  \n",
      " 8   pdays                  45179 non-null  int64  \n",
      " 9   previous               45179 non-null  int64  \n",
      " 10  term_deposit           45179 non-null  bool   \n",
      " 11  job_Unknown            45179 non-null  uint8  \n",
      " 12  job_admin.             45179 non-null  uint8  \n",
      " 13  job_blue-collar        45179 non-null  uint8  \n",
      " 14  job_entrepreneur       45179 non-null  uint8  \n",
      " 15  job_housemaid          45179 non-null  uint8  \n",
      " 16  job_management         45179 non-null  uint8  \n",
      " 17  job_retired            45179 non-null  uint8  \n",
      " 18  job_self-employed      45179 non-null  uint8  \n",
      " 19  job_services           45179 non-null  uint8  \n",
      " 20  job_student            45179 non-null  uint8  \n",
      " 21  job_technician         45179 non-null  uint8  \n",
      " 22  job_unemployed         45179 non-null  uint8  \n",
      " 23  marital_divorced       45179 non-null  uint8  \n",
      " 24  marital_married        45179 non-null  uint8  \n",
      " 25  marital_single         45179 non-null  uint8  \n",
      " 26  education_Unknown      45179 non-null  uint8  \n",
      " 27  education_primary      45179 non-null  uint8  \n",
      " 28  education_secondary    45179 non-null  uint8  \n",
      " 29  education_tertiary     45179 non-null  uint8  \n",
      " 30  contact_cellular       45179 non-null  uint8  \n",
      " 31  contact_not contacted  45179 non-null  uint8  \n",
      " 32  contact_telephone      45179 non-null  uint8  \n",
      " 33  device_Unknown         45179 non-null  uint8  \n",
      " 34  device_desktop         45179 non-null  uint8  \n",
      " 35  device_mobile          45179 non-null  uint8  \n",
      " 36  device_tablet          45179 non-null  uint8  \n",
      "dtypes: bool(4), float64(2), int64(5), uint8(26)\n",
      "memory usage: 4.1 MB\n"
     ]
    }
   ],
   "source": [
    "# check that there is no non numerical type data\n",
    "\n",
    "users_data.info()"
   ]
  },
  {
   "cell_type": "markdown",
   "id": "ed49f8a0",
   "metadata": {},
   "source": [
    "### prepare data for ML\n"
   ]
  },
  {
   "cell_type": "code",
   "execution_count": 8,
   "id": "d2ac4358",
   "metadata": {},
   "outputs": [],
   "source": [
    "# define our features and targets\n",
    "\n",
    "target = users_data['total_amount_usd']\n",
    "features = users_data.drop(['total_amount_usd'], axis = 1)"
   ]
  },
  {
   "cell_type": "code",
   "execution_count": 9,
   "id": "d46b4340",
   "metadata": {},
   "outputs": [
    {
     "data": {
      "text/plain": [
       "(45179, 36)"
      ]
     },
     "execution_count": 9,
     "metadata": {},
     "output_type": "execute_result"
    }
   ],
   "source": [
    "features.shape"
   ]
  },
  {
   "cell_type": "markdown",
   "id": "dbd1f70c",
   "metadata": {},
   "source": [
    "### Split the data into a training and test set\n"
   ]
  },
  {
   "cell_type": "code",
   "execution_count": 10,
   "id": "f3fc9c35",
   "metadata": {},
   "outputs": [],
   "source": [
    "# split into test and training data\n",
    "# remember it is common to keep 80% for training data and 20% for test data\n",
    "# 70 - 30 split is also fine\n",
    "\n",
    "X_train, X_test, y_train, y_test = train_test_split(\n",
    "                                                features, \n",
    "                                                target,\n",
    "                                                test_size = 0.2,\n",
    "                                                random_state = 0)"
   ]
  },
  {
   "cell_type": "code",
   "execution_count": 11,
   "id": "e2b2ee10",
   "metadata": {},
   "outputs": [
    {
     "name": "stdout",
     "output_type": "stream",
     "text": [
      "Training Data\n",
      "X_train shape: (36143, 36)\n",
      "y_train shape: (36143,)\n"
     ]
    }
   ],
   "source": [
    "# print the shape of the training data\n",
    "\n",
    "print(\"Training Data\")\n",
    "print(\"X_train shape:\", X_train.shape)\n",
    "print(\"y_train shape:\", y_train.shape)\n"
   ]
  },
  {
   "cell_type": "code",
   "execution_count": 12,
   "id": "dabf6d7d",
   "metadata": {},
   "outputs": [
    {
     "name": "stdout",
     "output_type": "stream",
     "text": [
      "Test Data\n",
      "X_test shape: (9036, 36)\n",
      "y_test shape: (9036,)\n"
     ]
    }
   ],
   "source": [
    "# print the shape of the test data \n",
    "\n",
    "print(\"Test Data\")\n",
    "print(\"X_test shape:\", X_test.shape)\n",
    "print(\"y_test shape:\", y_test.shape)"
   ]
  },
  {
   "cell_type": "markdown",
   "id": "0ef9c35f",
   "metadata": {},
   "source": [
    "### Build Random Forest Model\n"
   ]
  },
  {
   "cell_type": "code",
   "execution_count": 13,
   "id": "8b6f77cf",
   "metadata": {},
   "outputs": [],
   "source": [
    "# Build a Random Forest Model\n",
    "\n",
    "rf = RandomForestRegressor()\n",
    "rf.fit(X_train, y_train)\n",
    "y_pred_rf = rf.predict(X_test)"
   ]
  },
  {
   "cell_type": "code",
   "execution_count": 14,
   "id": "766af00d",
   "metadata": {},
   "outputs": [
    {
     "name": "stdout",
     "output_type": "stream",
     "text": [
      "first five predicted values: [1520.36845345 1306.3669069  1470.73854325 3555.16845345 -143.05      ]\n",
      "first five actual values: [1196.0, 566.0, 1369.8453450039785, 4833.0, 3.0]\n"
     ]
    }
   ],
   "source": [
    "print(\"first five predicted values:\", y_pred_rf[0:5])\n",
    "print(\"first five actual values:\", list(y_test[0:5]))"
   ]
  },
  {
   "cell_type": "markdown",
   "id": "d364f6a9",
   "metadata": {},
   "source": [
    "### Evaluate model on test set\n"
   ]
  },
  {
   "cell_type": "code",
   "execution_count": 15,
   "id": "5f125951",
   "metadata": {},
   "outputs": [
    {
     "name": "stdout",
     "output_type": "stream",
     "text": [
      "R2: -0.08\n",
      "Mean Absolute Error: 1233\n",
      "Mean Squared Error: 6244264\n"
     ]
    }
   ],
   "source": [
    "# the evaluation metrics for the model on the test set\n",
    "\n",
    "r2 = r2_score(y_test, y_pred_rf)\n",
    "print(\"R2:\", round(r2, 2))\n",
    "mae = mean_absolute_error(y_test, y_pred_rf)\n",
    "print(\"Mean Absolute Error:\", round(mae))\n",
    "mse = mean_squared_error(y_test, y_pred_rf)\n",
    "print(\"Mean Squared Error:\", round(mse))"
   ]
  },
  {
   "cell_type": "markdown",
   "id": "0a1c39b9",
   "metadata": {},
   "source": [
    "### Evaluate model on training set\n"
   ]
  },
  {
   "cell_type": "code",
   "execution_count": 16,
   "id": "7a24e63e",
   "metadata": {},
   "outputs": [
    {
     "name": "stdout",
     "output_type": "stream",
     "text": [
      "R2: 0.85\n",
      "Mean Absolute Error: 473\n",
      "Mean Squared Error: 1127176\n"
     ]
    }
   ],
   "source": [
    "# the evaluation metrics for the model on the training set\n",
    "\n",
    "y_pred_train_rf = rf.predict(X_train)\n",
    "\n",
    "r2 = r2_score(y_train, y_pred_train_rf)\n",
    "print(\"R2:\", round(r2, 2))\n",
    "mae = mean_absolute_error(y_train, y_pred_train_rf)\n",
    "print(\"Mean Absolute Error:\", round(mae))\n",
    "mse = mean_squared_error(y_train, y_pred_train_rf)\n",
    "print(\"Mean Squared Error:\", round(mse))"
   ]
  },
  {
   "cell_type": "markdown",
   "id": "c082fb1e",
   "metadata": {},
   "source": [
    "## Function to plot Feature importance\n",
    "#### can be accessed by running this cell or callling it from helpers in src\n",
    "\n",
    "def feature_importance_plot(model, X_train, n):\n",
    "    \"\"\"Plots feature importance - this only works for Decision Tree based Models\"\"\"\n",
    "    plt.figure(figsize=(8, 5)) # set figure size\n",
    "    feat_importances = pd.Series(model.feature_importances_,\n",
    "                                 index = X_train.columns)\n",
    "    feat_importances.nlargest(n).plot(kind = 'bar')\n",
    "    plt.title(f\"Top {n} Features\")\n",
    "    plt.show()"
   ]
  },
  {
   "cell_type": "code",
   "execution_count": 17,
   "id": "ddd0a83d",
   "metadata": {},
   "outputs": [
    {
     "data": {
      "image/png": "[encoded data removed]",
      "text/plain": [
       "<Figure size 576x360 with 1 Axes>"
      ]
     },
     "metadata": {
      "needs_background": "light"
     },
     "output_type": "display_data"
    }
   ],
   "source": [
    "feature_importance_plot(rf, X_train, n = 10)\n",
    "\n",
    "# what are the most important features?"
   ]
  },
  {
   "cell_type": "markdown",
   "id": "de296d0a",
   "metadata": {},
   "source": [
    "## Funtion to plot learning curve\n",
    "#### can be accessed by running this cell of calling the function from the src folder\n",
    "   \n",
    "import numpy as np\n",
    "import matplotlib.pyplot as plt\n",
    "from sklearn.model_selection import learning_curve, cross_val_score\n",
    "\n",
    "\n",
    "def learning_curve_plot(model, X_train, y_train, scoring):\n",
    "    \"\"\"Plots learning curves for model validation\n",
    "    \n",
    "    @param models - list of models we are interested in evaluating\n",
    "    @param X_train - the training features\n",
    "    @param y_train - the target\n",
    "    \n",
    "    @returns a plot of the learning curve\n",
    "    \"\"\"\n",
    "    \n",
    "    plt.figure(figsize=(5, 5)) # set figure size\n",
    "    train_sizes, train_scores, test_scores = learning_curve(\n",
    "        model,\n",
    "        X_train,\n",
    "        y_train,\n",
    "        # Number of folds in cross-validation\n",
    "        cv = 5,\n",
    "        # Evaluation metric\n",
    "        scoring = scoring,\n",
    "        # Use all computer cores\n",
    "        n_jobs = -1,\n",
    "        shuffle = True,\n",
    "        # 5 different sizes of the training set\n",
    "        train_sizes = np.linspace(0.01, 1.0, 5))\n",
    "\n",
    "    # Create means and standard deviations of training set scores\n",
    "    train_mean = np.mean(train_scores, axis = 1)\n",
    "    train_std = np.std(train_scores, axis = 1)\n",
    "\n",
    "    # Create means and standard deviations of test set scores\n",
    "    test_mean = np.mean(test_scores, axis = 1)\n",
    "    test_std = np.std(test_scores, axis = 1)\n",
    "\n",
    "    # Draw lines\n",
    "    plt.plot(train_sizes, train_mean, '--', color = \"#111111\", label = \"Training score\")\n",
    "    plt.plot(train_sizes, test_mean, color = \"#111111\", label = \"Cross-validation score\")\n",
    "\n",
    "    # Draw bands\n",
    "    # plt.fill_between(train_sizes, train_mean - train_std, train_mean + train_std, color = \"#DDDDDD\")\n",
    "    # plt.fill_between(train_sizes, test_mean - test_std, test_mean + test_std, color = \"#DDDDDD\")\n",
    "\n",
    "    # Create plot\n",
    "    plt.title(\"Learning Curves\")\n",
    "    plt.xlabel(\"Training Set Size\"), plt.ylabel(\"Error\"), plt.legend(loc = \"best\")\n",
    "    plt.tight_layout()\n",
    "    \n",
    "\n",
    "    plt.show()"
   ]
  },
  {
   "cell_type": "code",
   "execution_count": 18,
   "id": "17f3f962",
   "metadata": {},
   "outputs": [
    {
     "data": {
      "image/png": "[encoded data removed]",
      "text/plain": [
       "<Figure size 360x360 with 1 Axes>"
      ]
     },
     "metadata": {
      "needs_background": "light"
     },
     "output_type": "display_data"
    }
   ],
   "source": [
    "learning_curve_plot(rf, X_train, y_train, scoring='r2')"
   ]
  },
  {
   "cell_type": "code",
   "execution_count": 19,
   "id": "f09b0fa9",
   "metadata": {},
   "outputs": [
    {
     "data": {
      "text/plain": [
       "DecisionTreeRegressor()"
      ]
     },
     "execution_count": 19,
     "metadata": {},
     "output_type": "execute_result"
    }
   ],
   "source": [
    "# Build the Decision Tree model\n",
    "\n",
    "dt = DecisionTreeRegressor()\n",
    "dt.fit(X_train, y_train)\n"
   ]
  },
  {
   "cell_type": "code",
   "execution_count": 20,
   "id": "29bcdad9",
   "metadata": {},
   "outputs": [],
   "source": [
    "# Make predictions and call this variable y_pred_dt\n",
    "\n",
    "y_pred_dt = dt.predict(X_test)"
   ]
  },
  {
   "cell_type": "code",
   "execution_count": 21,
   "id": "94686679",
   "metadata": {},
   "outputs": [
    {
     "name": "stdout",
     "output_type": "stream",
     "text": [
      "first five predicted values: [ 181.         42.       1369.845345    0.       -438.      ]\n",
      "first five actual values: [1196.0, 566.0, 1369.8453450039785, 4833.0, 3.0]\n"
     ]
    }
   ],
   "source": [
    "# Optional: Print the first five predicted vs actual values\n",
    "\n",
    "print(\"first five predicted values:\", y_pred_dt[0:5])\n",
    "print(\"first five actual values:\", list(y_test[0:5]))"
   ]
  },
  {
   "cell_type": "code",
   "execution_count": 22,
   "id": "dd9a7a76",
   "metadata": {},
   "outputs": [
    {
     "name": "stdout",
     "output_type": "stream",
     "text": [
      "R2: -2.12\n",
      "Mean Absolute Error: 1618\n",
      "Mean Squared Error: 18022760\n"
     ]
    }
   ],
   "source": [
    "# the evaluation metrics for the model on the test set\n",
    "\n",
    "r2 = r2_score(y_test, y_pred_dt)\n",
    "print(\"R2:\", round(r2, 2))\n",
    "mae = mean_absolute_error(y_test, y_pred_dt)\n",
    "print(\"Mean Absolute Error:\", round(mae))\n",
    "mse = mean_squared_error(y_test, y_pred_dt)\n",
    "print(\"Mean Squared Error:\", round(mse))\n"
   ]
  },
  {
   "cell_type": "code",
   "execution_count": 23,
   "id": "3fc09ecb",
   "metadata": {},
   "outputs": [
    {
     "name": "stdout",
     "output_type": "stream",
     "text": [
      "R2: 1.0\n",
      "Mean Absolute Error: 0\n",
      "Mean Squared Error: 624\n"
     ]
    }
   ],
   "source": [
    "# the evaluation metrics for the model on the training set\n",
    "\n",
    "y_pred_train_dt = dt.predict(X_train)\n",
    "\n",
    "r2 = r2_score(y_train, y_pred_train_dt)\n",
    "print(\"R2:\", round(r2, 2))\n",
    "mae = mean_absolute_error(y_train, y_pred_train_dt)\n",
    "print(\"Mean Absolute Error:\", round(mae))\n",
    "mse = mean_squared_error(y_train, y_pred_train_dt)\n",
    "print(\"Mean Squared Error:\", round(mse))\n",
    "\n",
    "# seeing low error rates on the training set, in this case no error rate - signs of overfitting"
   ]
  },
  {
   "cell_type": "code",
   "execution_count": 24,
   "id": "d98bec66",
   "metadata": {},
   "outputs": [
    {
     "data": {
      "image/png": "[encoded data removed]",
      "text/plain": [
       "<Figure size 576x360 with 1 Axes>"
      ]
     },
     "metadata": {
      "needs_background": "light"
     },
     "output_type": "display_data"
    }
   ],
   "source": [
    "feature_importance_plot(dt, X_train, n = 10)"
   ]
  },
  {
   "cell_type": "code",
   "execution_count": 25,
   "id": "e686c0ae",
   "metadata": {},
   "outputs": [
    {
     "data": {
      "image/png": "[encoded data removed]",
      "text/plain": [
       "<Figure size 360x360 with 1 Axes>"
      ]
     },
     "metadata": {
      "needs_background": "light"
     },
     "output_type": "display_data"
    }
   ],
   "source": [
    "learning_curve_plot(dt, X_train, y_train, scoring='r2')"
   ]
  }
 ],
 "metadata": {
  "kernelspec": {
   "display_name": "Python 3 (ipykernel)",
   "language": "python",
   "name": "python3"
  },
  "language_info": {
   "codemirror_mode": {
    "name": "ipython",
    "version": 3
   },
   "file_extension": ".py",
   "mimetype": "text/x-python",
   "name": "python",
   "nbconvert_exporter": "python",
   "pygments_lexer": "ipython3",
   "version": "3.9.7"
  }
 },
 "nbformat": 4,
 "nbformat_minor": 5
}
